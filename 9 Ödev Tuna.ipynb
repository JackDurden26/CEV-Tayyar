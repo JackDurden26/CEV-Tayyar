{
 "cells": [
  {
   "cell_type": "code",
   "execution_count": 411,
   "outputs": [],
   "source": [
    "# TASK-9A: Please apply the following feature engineering steps on the numeric features of the AD dataset.\n",
    "#\n",
    "# Divide by NACCBRNV (MRI)\n",
    "# Multiply by NACCAGEB\n",
    "#\n",
    "# TASK-9B: Please apply Gaussian Naive Bayes algorithm on the numeric values (after the transformation) to predict the CDRGLOB values (class-based). Train-test split, train by grid search (k=5) and optimize for the parameter values.\n",
    "#\n",
    "# TASK-9C: Please apply a one-hot encoding method on the categorical data of the AD dataset.\n",
    "#\n",
    "# TASK–9D: Please apply Multinomial Naive Bayes algorithms on the one-hot encoded categorical data of the AD dataset and predict the labels (CDRGLOB).\n",
    "#\n",
    "# TASK-9E: Please merge the normalized numeric values and one-hot encoded categorical values and then apply the following regression methods (Linear, Ridg and Lasso) to predict the labels as numeric values. Please do not forget to optimize them and use R2 for scoring.\n",
    "#\n",
    "# TASK-9F: Please find and apply the classification versions of the following algorithms (Linear, Ridge and Lasso) with the hyperparameter optimization."
   ],
   "metadata": {
    "collapsed": false
   }
  },
  {
   "cell_type": "code",
   "execution_count": 412,
   "outputs": [],
   "source": [
    "import pandas as pd\n",
    "import numpy as np\n",
    "from sklearn.naive_bayes import GaussianNB\n",
    "from sklearn.model_selection import train_test_split\n",
    "from sklearn.metrics import accuracy_score\n",
    "from sklearn.naive_bayes import GaussianNB\n",
    "from sklearn.model_selection import train_test_split, GridSearchCV"
   ],
   "metadata": {
    "collapsed": false
   }
  },
  {
   "cell_type": "code",
   "execution_count": 413,
   "outputs": [
    {
     "data": {
      "text/plain": "      SEX  EDUC  MARISTAT  INDEPEND  RESIDENC  NACCFAM  ANYMEDS  SMOKYRS  \\\n0       2    18         1         1         1        1        1        0   \n1       1    11         1         1         1        1        1        0   \n2       2    16         1         1         1        1        1       10   \n3       1    14         1         1         1        0        1        0   \n4       1    16         1         1         2        0        1       50   \n...   ...   ...       ...       ...       ...      ...      ...      ...   \n1349    1    20         1         1         1        1        1        0   \n1350    1    16         1         2         1        0        1        0   \n1351    2    14         2         1         1        1        1        0   \n1352    2    20         3         1         1        1        1       25   \n1353    2    14         1         1         1        1        1       10   \n\n      NACCTBI  DIABETES  ...   RSUPFR  RSUPFRM  RSUPPAR  RSUPPARM  RSUPTEM  \\\n0           0         0  ...  27.9038   2.2157  10.3481    1.7014  13.4250   \n1           0         0  ...  29.0600   2.6900   9.2500    1.6300  14.8800   \n2           0         1  ...  33.0000   2.5400  13.6900    1.5600  16.2300   \n3           0         1  ...  31.6800   2.4100   9.6400    1.4500  15.1100   \n4           0         0  ...  28.0631   1.9501   9.1125    1.0427  13.3763   \n...       ...       ...  ...      ...      ...      ...       ...      ...   \n1349        0         0  ...  24.6892   2.6528  10.5460    2.1712  14.1128   \n1350        0         0  ...  24.7908   2.0993  10.4094    1.4855  10.7880   \n1351        0         0  ...  23.8500   2.1200  12.3900    1.5300  12.6600   \n1352        0         0  ...  31.3500   2.4300  10.8200    1.7000  13.7700   \n1353        0         0  ...  21.9900   2.4100   9.8900    1.7600  13.9600   \n\n      RSUPTEMM  RSUPMAR  RSUPMARM  RTRTEM  RTRTEMM  \n0       1.7419   9.8700    1.6792  0.8906   1.1947  \n1       2.3000   7.2700    1.8900  1.3800   2.0300  \n2       2.0700  10.1100    1.8400  1.0100   1.5000  \n3       1.6400  10.3900    1.8300  0.7400   1.1000  \n4       1.6270   7.5844    1.4595  0.6638   0.8527  \n...        ...      ...       ...     ...      ...  \n1349    2.8833   9.3176    2.3582  0.6735   1.0270  \n1350    1.9027  10.2034    2.0484  0.7267   0.7946  \n1351    1.9900   9.4800    1.7400  1.1800   1.5900  \n1352    2.1000  11.1200    2.1400  1.3100   1.5200  \n1353    2.2000   9.9600    1.8600  0.8300   1.6500  \n\n[1354 rows x 186 columns]",
      "text/html": "<div>\n<style scoped>\n    .dataframe tbody tr th:only-of-type {\n        vertical-align: middle;\n    }\n\n    .dataframe tbody tr th {\n        vertical-align: top;\n    }\n\n    .dataframe thead th {\n        text-align: right;\n    }\n</style>\n<table border=\"1\" class=\"dataframe\">\n  <thead>\n    <tr style=\"text-align: right;\">\n      <th></th>\n      <th>SEX</th>\n      <th>EDUC</th>\n      <th>MARISTAT</th>\n      <th>INDEPEND</th>\n      <th>RESIDENC</th>\n      <th>NACCFAM</th>\n      <th>ANYMEDS</th>\n      <th>SMOKYRS</th>\n      <th>NACCTBI</th>\n      <th>DIABETES</th>\n      <th>...</th>\n      <th>RSUPFR</th>\n      <th>RSUPFRM</th>\n      <th>RSUPPAR</th>\n      <th>RSUPPARM</th>\n      <th>RSUPTEM</th>\n      <th>RSUPTEMM</th>\n      <th>RSUPMAR</th>\n      <th>RSUPMARM</th>\n      <th>RTRTEM</th>\n      <th>RTRTEMM</th>\n    </tr>\n  </thead>\n  <tbody>\n    <tr>\n      <th>0</th>\n      <td>2</td>\n      <td>18</td>\n      <td>1</td>\n      <td>1</td>\n      <td>1</td>\n      <td>1</td>\n      <td>1</td>\n      <td>0</td>\n      <td>0</td>\n      <td>0</td>\n      <td>...</td>\n      <td>27.9038</td>\n      <td>2.2157</td>\n      <td>10.3481</td>\n      <td>1.7014</td>\n      <td>13.4250</td>\n      <td>1.7419</td>\n      <td>9.8700</td>\n      <td>1.6792</td>\n      <td>0.8906</td>\n      <td>1.1947</td>\n    </tr>\n    <tr>\n      <th>1</th>\n      <td>1</td>\n      <td>11</td>\n      <td>1</td>\n      <td>1</td>\n      <td>1</td>\n      <td>1</td>\n      <td>1</td>\n      <td>0</td>\n      <td>0</td>\n      <td>0</td>\n      <td>...</td>\n      <td>29.0600</td>\n      <td>2.6900</td>\n      <td>9.2500</td>\n      <td>1.6300</td>\n      <td>14.8800</td>\n      <td>2.3000</td>\n      <td>7.2700</td>\n      <td>1.8900</td>\n      <td>1.3800</td>\n      <td>2.0300</td>\n    </tr>\n    <tr>\n      <th>2</th>\n      <td>2</td>\n      <td>16</td>\n      <td>1</td>\n      <td>1</td>\n      <td>1</td>\n      <td>1</td>\n      <td>1</td>\n      <td>10</td>\n      <td>0</td>\n      <td>1</td>\n      <td>...</td>\n      <td>33.0000</td>\n      <td>2.5400</td>\n      <td>13.6900</td>\n      <td>1.5600</td>\n      <td>16.2300</td>\n      <td>2.0700</td>\n      <td>10.1100</td>\n      <td>1.8400</td>\n      <td>1.0100</td>\n      <td>1.5000</td>\n    </tr>\n    <tr>\n      <th>3</th>\n      <td>1</td>\n      <td>14</td>\n      <td>1</td>\n      <td>1</td>\n      <td>1</td>\n      <td>0</td>\n      <td>1</td>\n      <td>0</td>\n      <td>0</td>\n      <td>1</td>\n      <td>...</td>\n      <td>31.6800</td>\n      <td>2.4100</td>\n      <td>9.6400</td>\n      <td>1.4500</td>\n      <td>15.1100</td>\n      <td>1.6400</td>\n      <td>10.3900</td>\n      <td>1.8300</td>\n      <td>0.7400</td>\n      <td>1.1000</td>\n    </tr>\n    <tr>\n      <th>4</th>\n      <td>1</td>\n      <td>16</td>\n      <td>1</td>\n      <td>1</td>\n      <td>2</td>\n      <td>0</td>\n      <td>1</td>\n      <td>50</td>\n      <td>0</td>\n      <td>0</td>\n      <td>...</td>\n      <td>28.0631</td>\n      <td>1.9501</td>\n      <td>9.1125</td>\n      <td>1.0427</td>\n      <td>13.3763</td>\n      <td>1.6270</td>\n      <td>7.5844</td>\n      <td>1.4595</td>\n      <td>0.6638</td>\n      <td>0.8527</td>\n    </tr>\n    <tr>\n      <th>...</th>\n      <td>...</td>\n      <td>...</td>\n      <td>...</td>\n      <td>...</td>\n      <td>...</td>\n      <td>...</td>\n      <td>...</td>\n      <td>...</td>\n      <td>...</td>\n      <td>...</td>\n      <td>...</td>\n      <td>...</td>\n      <td>...</td>\n      <td>...</td>\n      <td>...</td>\n      <td>...</td>\n      <td>...</td>\n      <td>...</td>\n      <td>...</td>\n      <td>...</td>\n      <td>...</td>\n    </tr>\n    <tr>\n      <th>1349</th>\n      <td>1</td>\n      <td>20</td>\n      <td>1</td>\n      <td>1</td>\n      <td>1</td>\n      <td>1</td>\n      <td>1</td>\n      <td>0</td>\n      <td>0</td>\n      <td>0</td>\n      <td>...</td>\n      <td>24.6892</td>\n      <td>2.6528</td>\n      <td>10.5460</td>\n      <td>2.1712</td>\n      <td>14.1128</td>\n      <td>2.8833</td>\n      <td>9.3176</td>\n      <td>2.3582</td>\n      <td>0.6735</td>\n      <td>1.0270</td>\n    </tr>\n    <tr>\n      <th>1350</th>\n      <td>1</td>\n      <td>16</td>\n      <td>1</td>\n      <td>2</td>\n      <td>1</td>\n      <td>0</td>\n      <td>1</td>\n      <td>0</td>\n      <td>0</td>\n      <td>0</td>\n      <td>...</td>\n      <td>24.7908</td>\n      <td>2.0993</td>\n      <td>10.4094</td>\n      <td>1.4855</td>\n      <td>10.7880</td>\n      <td>1.9027</td>\n      <td>10.2034</td>\n      <td>2.0484</td>\n      <td>0.7267</td>\n      <td>0.7946</td>\n    </tr>\n    <tr>\n      <th>1351</th>\n      <td>2</td>\n      <td>14</td>\n      <td>2</td>\n      <td>1</td>\n      <td>1</td>\n      <td>1</td>\n      <td>1</td>\n      <td>0</td>\n      <td>0</td>\n      <td>0</td>\n      <td>...</td>\n      <td>23.8500</td>\n      <td>2.1200</td>\n      <td>12.3900</td>\n      <td>1.5300</td>\n      <td>12.6600</td>\n      <td>1.9900</td>\n      <td>9.4800</td>\n      <td>1.7400</td>\n      <td>1.1800</td>\n      <td>1.5900</td>\n    </tr>\n    <tr>\n      <th>1352</th>\n      <td>2</td>\n      <td>20</td>\n      <td>3</td>\n      <td>1</td>\n      <td>1</td>\n      <td>1</td>\n      <td>1</td>\n      <td>25</td>\n      <td>0</td>\n      <td>0</td>\n      <td>...</td>\n      <td>31.3500</td>\n      <td>2.4300</td>\n      <td>10.8200</td>\n      <td>1.7000</td>\n      <td>13.7700</td>\n      <td>2.1000</td>\n      <td>11.1200</td>\n      <td>2.1400</td>\n      <td>1.3100</td>\n      <td>1.5200</td>\n    </tr>\n    <tr>\n      <th>1353</th>\n      <td>2</td>\n      <td>14</td>\n      <td>1</td>\n      <td>1</td>\n      <td>1</td>\n      <td>1</td>\n      <td>1</td>\n      <td>10</td>\n      <td>0</td>\n      <td>0</td>\n      <td>...</td>\n      <td>21.9900</td>\n      <td>2.4100</td>\n      <td>9.8900</td>\n      <td>1.7600</td>\n      <td>13.9600</td>\n      <td>2.2000</td>\n      <td>9.9600</td>\n      <td>1.8600</td>\n      <td>0.8300</td>\n      <td>1.6500</td>\n    </tr>\n  </tbody>\n</table>\n<p>1354 rows × 186 columns</p>\n</div>"
     },
     "execution_count": 413,
     "metadata": {},
     "output_type": "execute_result"
    }
   ],
   "source": [
    "df = pd.read_excel(\"Temporary_data3_Left_Right_Copy.xlsx\")\n",
    "df"
   ],
   "metadata": {
    "collapsed": false
   }
  },
  {
   "cell_type": "code",
   "execution_count": 414,
   "outputs": [
    {
     "data": {
      "text/plain": "      NACCBMI   NACCICV  NACCBRNV  NACCWMVL   CSFVOL  GRAYVOL  WHITEVOL  \\\n0        25.1  1399.056  1118.929   481.802  279.718  637.536   481.393   \n1        30.3  1578.180  1107.680   477.910  468.740  631.530   476.150   \n2        23.2  1455.550  1187.760   527.470  266.410  661.670   526.090   \n3        30.4  1494.650  1115.330   478.960  376.840  638.850   476.480   \n4        20.8  1494.067  1014.743   444.578  471.128  578.361   436.382   \n...       ...       ...       ...       ...      ...      ...       ...   \n1349     27.8  1472.904  1141.103   519.282  329.904  623.718   517.385   \n1350     28.3  1723.724  1192.320   535.784  521.124  666.816   525.504   \n1351     25.8  1450.360  1068.170   449.420  373.560  627.380   440.790   \n1352     44.2  1528.400  1105.820   487.800  391.970  648.630   457.190   \n1353     21.3  1286.170   996.810   424.920  279.550  581.700   415.110   \n\n       WMHVOL  CEREALL  CERETISS  ...   RSUPFR  RSUPFRM  RSUPPAR  RSUPPARM  \\\n0      0.4088  1189.23   952.446  ...  27.9038   2.2157  10.3481    1.7014   \n1      1.7600  1382.83   975.620  ...  29.0600   2.6900   9.2500    1.6300   \n2      1.3800  1247.03  1035.400  ...  33.0000   2.5400  13.6900    1.5600   \n3      2.4800  1248.03   965.820  ...  31.6800   2.4100   9.6400    1.4500   \n4      8.1956  1281.46   885.615  ...  28.0631   1.9501   9.1125    1.0427   \n...       ...      ...       ...  ...      ...      ...      ...       ...   \n1349   1.8967  1255.75   989.959  ...  24.6892   2.6528  10.5460    2.1712   \n1350  10.2797  1478.48  1026.640  ...  24.7908   2.0993  10.4094    1.4855   \n1351   8.6300  1232.13   918.530  ...  23.8500   2.1200  12.3900    1.5300   \n1352  30.6100  1327.44   995.230  ...  31.3500   2.4300  10.8200    1.7000   \n1353   9.8100  1094.17   863.900  ...  21.9900   2.4100   9.8900    1.7600   \n\n      RSUPTEM  RSUPTEMM  RSUPMAR  RSUPMARM  RTRTEM  RTRTEMM  \n0     13.4250    1.7419   9.8700    1.6792  0.8906   1.1947  \n1     14.8800    2.3000   7.2700    1.8900  1.3800   2.0300  \n2     16.2300    2.0700  10.1100    1.8400  1.0100   1.5000  \n3     15.1100    1.6400  10.3900    1.8300  0.7400   1.1000  \n4     13.3763    1.6270   7.5844    1.4595  0.6638   0.8527  \n...       ...       ...      ...       ...     ...      ...  \n1349  14.1128    2.8833   9.3176    2.3582  0.6735   1.0270  \n1350  10.7880    1.9027  10.2034    2.0484  0.7267   0.7946  \n1351  12.6600    1.9900   9.4800    1.7400  1.1800   1.5900  \n1352  13.7700    2.1000  11.1200    2.1400  1.3100   1.5200  \n1353  13.9600    2.2000   9.9600    1.8600  0.8300   1.6500  \n\n[1354 rows x 150 columns]",
      "text/html": "<div>\n<style scoped>\n    .dataframe tbody tr th:only-of-type {\n        vertical-align: middle;\n    }\n\n    .dataframe tbody tr th {\n        vertical-align: top;\n    }\n\n    .dataframe thead th {\n        text-align: right;\n    }\n</style>\n<table border=\"1\" class=\"dataframe\">\n  <thead>\n    <tr style=\"text-align: right;\">\n      <th></th>\n      <th>NACCBMI</th>\n      <th>NACCICV</th>\n      <th>NACCBRNV</th>\n      <th>NACCWMVL</th>\n      <th>CSFVOL</th>\n      <th>GRAYVOL</th>\n      <th>WHITEVOL</th>\n      <th>WMHVOL</th>\n      <th>CEREALL</th>\n      <th>CERETISS</th>\n      <th>...</th>\n      <th>RSUPFR</th>\n      <th>RSUPFRM</th>\n      <th>RSUPPAR</th>\n      <th>RSUPPARM</th>\n      <th>RSUPTEM</th>\n      <th>RSUPTEMM</th>\n      <th>RSUPMAR</th>\n      <th>RSUPMARM</th>\n      <th>RTRTEM</th>\n      <th>RTRTEMM</th>\n    </tr>\n  </thead>\n  <tbody>\n    <tr>\n      <th>0</th>\n      <td>25.1</td>\n      <td>1399.056</td>\n      <td>1118.929</td>\n      <td>481.802</td>\n      <td>279.718</td>\n      <td>637.536</td>\n      <td>481.393</td>\n      <td>0.4088</td>\n      <td>1189.23</td>\n      <td>952.446</td>\n      <td>...</td>\n      <td>27.9038</td>\n      <td>2.2157</td>\n      <td>10.3481</td>\n      <td>1.7014</td>\n      <td>13.4250</td>\n      <td>1.7419</td>\n      <td>9.8700</td>\n      <td>1.6792</td>\n      <td>0.8906</td>\n      <td>1.1947</td>\n    </tr>\n    <tr>\n      <th>1</th>\n      <td>30.3</td>\n      <td>1578.180</td>\n      <td>1107.680</td>\n      <td>477.910</td>\n      <td>468.740</td>\n      <td>631.530</td>\n      <td>476.150</td>\n      <td>1.7600</td>\n      <td>1382.83</td>\n      <td>975.620</td>\n      <td>...</td>\n      <td>29.0600</td>\n      <td>2.6900</td>\n      <td>9.2500</td>\n      <td>1.6300</td>\n      <td>14.8800</td>\n      <td>2.3000</td>\n      <td>7.2700</td>\n      <td>1.8900</td>\n      <td>1.3800</td>\n      <td>2.0300</td>\n    </tr>\n    <tr>\n      <th>2</th>\n      <td>23.2</td>\n      <td>1455.550</td>\n      <td>1187.760</td>\n      <td>527.470</td>\n      <td>266.410</td>\n      <td>661.670</td>\n      <td>526.090</td>\n      <td>1.3800</td>\n      <td>1247.03</td>\n      <td>1035.400</td>\n      <td>...</td>\n      <td>33.0000</td>\n      <td>2.5400</td>\n      <td>13.6900</td>\n      <td>1.5600</td>\n      <td>16.2300</td>\n      <td>2.0700</td>\n      <td>10.1100</td>\n      <td>1.8400</td>\n      <td>1.0100</td>\n      <td>1.5000</td>\n    </tr>\n    <tr>\n      <th>3</th>\n      <td>30.4</td>\n      <td>1494.650</td>\n      <td>1115.330</td>\n      <td>478.960</td>\n      <td>376.840</td>\n      <td>638.850</td>\n      <td>476.480</td>\n      <td>2.4800</td>\n      <td>1248.03</td>\n      <td>965.820</td>\n      <td>...</td>\n      <td>31.6800</td>\n      <td>2.4100</td>\n      <td>9.6400</td>\n      <td>1.4500</td>\n      <td>15.1100</td>\n      <td>1.6400</td>\n      <td>10.3900</td>\n      <td>1.8300</td>\n      <td>0.7400</td>\n      <td>1.1000</td>\n    </tr>\n    <tr>\n      <th>4</th>\n      <td>20.8</td>\n      <td>1494.067</td>\n      <td>1014.743</td>\n      <td>444.578</td>\n      <td>471.128</td>\n      <td>578.361</td>\n      <td>436.382</td>\n      <td>8.1956</td>\n      <td>1281.46</td>\n      <td>885.615</td>\n      <td>...</td>\n      <td>28.0631</td>\n      <td>1.9501</td>\n      <td>9.1125</td>\n      <td>1.0427</td>\n      <td>13.3763</td>\n      <td>1.6270</td>\n      <td>7.5844</td>\n      <td>1.4595</td>\n      <td>0.6638</td>\n      <td>0.8527</td>\n    </tr>\n    <tr>\n      <th>...</th>\n      <td>...</td>\n      <td>...</td>\n      <td>...</td>\n      <td>...</td>\n      <td>...</td>\n      <td>...</td>\n      <td>...</td>\n      <td>...</td>\n      <td>...</td>\n      <td>...</td>\n      <td>...</td>\n      <td>...</td>\n      <td>...</td>\n      <td>...</td>\n      <td>...</td>\n      <td>...</td>\n      <td>...</td>\n      <td>...</td>\n      <td>...</td>\n      <td>...</td>\n      <td>...</td>\n    </tr>\n    <tr>\n      <th>1349</th>\n      <td>27.8</td>\n      <td>1472.904</td>\n      <td>1141.103</td>\n      <td>519.282</td>\n      <td>329.904</td>\n      <td>623.718</td>\n      <td>517.385</td>\n      <td>1.8967</td>\n      <td>1255.75</td>\n      <td>989.959</td>\n      <td>...</td>\n      <td>24.6892</td>\n      <td>2.6528</td>\n      <td>10.5460</td>\n      <td>2.1712</td>\n      <td>14.1128</td>\n      <td>2.8833</td>\n      <td>9.3176</td>\n      <td>2.3582</td>\n      <td>0.6735</td>\n      <td>1.0270</td>\n    </tr>\n    <tr>\n      <th>1350</th>\n      <td>28.3</td>\n      <td>1723.724</td>\n      <td>1192.320</td>\n      <td>535.784</td>\n      <td>521.124</td>\n      <td>666.816</td>\n      <td>525.504</td>\n      <td>10.2797</td>\n      <td>1478.48</td>\n      <td>1026.640</td>\n      <td>...</td>\n      <td>24.7908</td>\n      <td>2.0993</td>\n      <td>10.4094</td>\n      <td>1.4855</td>\n      <td>10.7880</td>\n      <td>1.9027</td>\n      <td>10.2034</td>\n      <td>2.0484</td>\n      <td>0.7267</td>\n      <td>0.7946</td>\n    </tr>\n    <tr>\n      <th>1351</th>\n      <td>25.8</td>\n      <td>1450.360</td>\n      <td>1068.170</td>\n      <td>449.420</td>\n      <td>373.560</td>\n      <td>627.380</td>\n      <td>440.790</td>\n      <td>8.6300</td>\n      <td>1232.13</td>\n      <td>918.530</td>\n      <td>...</td>\n      <td>23.8500</td>\n      <td>2.1200</td>\n      <td>12.3900</td>\n      <td>1.5300</td>\n      <td>12.6600</td>\n      <td>1.9900</td>\n      <td>9.4800</td>\n      <td>1.7400</td>\n      <td>1.1800</td>\n      <td>1.5900</td>\n    </tr>\n    <tr>\n      <th>1352</th>\n      <td>44.2</td>\n      <td>1528.400</td>\n      <td>1105.820</td>\n      <td>487.800</td>\n      <td>391.970</td>\n      <td>648.630</td>\n      <td>457.190</td>\n      <td>30.6100</td>\n      <td>1327.44</td>\n      <td>995.230</td>\n      <td>...</td>\n      <td>31.3500</td>\n      <td>2.4300</td>\n      <td>10.8200</td>\n      <td>1.7000</td>\n      <td>13.7700</td>\n      <td>2.1000</td>\n      <td>11.1200</td>\n      <td>2.1400</td>\n      <td>1.3100</td>\n      <td>1.5200</td>\n    </tr>\n    <tr>\n      <th>1353</th>\n      <td>21.3</td>\n      <td>1286.170</td>\n      <td>996.810</td>\n      <td>424.920</td>\n      <td>279.550</td>\n      <td>581.700</td>\n      <td>415.110</td>\n      <td>9.8100</td>\n      <td>1094.17</td>\n      <td>863.900</td>\n      <td>...</td>\n      <td>21.9900</td>\n      <td>2.4100</td>\n      <td>9.8900</td>\n      <td>1.7600</td>\n      <td>13.9600</td>\n      <td>2.2000</td>\n      <td>9.9600</td>\n      <td>1.8600</td>\n      <td>0.8300</td>\n      <td>1.6500</td>\n    </tr>\n  </tbody>\n</table>\n<p>1354 rows × 150 columns</p>\n</div>"
     },
     "execution_count": 414,
     "metadata": {},
     "output_type": "execute_result"
    }
   ],
   "source": [
    "newdf = df.select_dtypes(include=['float64']).columns\n",
    "df[newdf]"
   ],
   "metadata": {
    "collapsed": false
   }
  },
  {
   "cell_type": "code",
   "execution_count": 415,
   "outputs": [],
   "source": [
    "df[newdf] = df[newdf].div(df['NACCBRNV'], axis=0)\n",
    "\n",
    "df[newdf] = df[newdf].mul(df[\"NACCAGEB\"], axis=0)"
   ],
   "metadata": {
    "collapsed": false
   }
  },
  {
   "cell_type": "code",
   "execution_count": 416,
   "outputs": [],
   "source": [
    "df.drop(['NACCAGEB'], axis=1, inplace=True)"
   ],
   "metadata": {
    "collapsed": false
   }
  },
  {
   "cell_type": "code",
   "execution_count": 417,
   "outputs": [],
   "source": [
    "y= df[\"CDRGLOB\"]\n",
    "X= df[newdf]\n",
    "\n",
    "X_train, X_test, y_train, y_test = train_test_split(X, y, test_size=0.2, random_state=42)"
   ],
   "metadata": {
    "collapsed": false
   }
  },
  {
   "cell_type": "code",
   "execution_count": 418,
   "outputs": [],
   "source": [
    "gnb = GaussianNB()\n",
    "gnb.fit(X_train, y_train)\n",
    "\n",
    "y_pred = gnb.predict(X_test)"
   ],
   "metadata": {
    "collapsed": false
   }
  },
  {
   "cell_type": "code",
   "execution_count": 419,
   "outputs": [
    {
     "data": {
      "text/plain": "0.5055350553505535"
     },
     "execution_count": 419,
     "metadata": {},
     "output_type": "execute_result"
    }
   ],
   "source": [
    "gnb = GaussianNB()\n",
    "gnb.fit(X_train, y_train)\n",
    "y_pred = gnb.predict(X_test)\n",
    "accuracy_score(y_test, y_pred)"
   ],
   "metadata": {
    "collapsed": false
   }
  },
  {
   "cell_type": "code",
   "execution_count": 421,
   "outputs": [
    {
     "name": "stdout",
     "output_type": "stream",
     "text": [
      "Best cross-validation score: 0.50\n",
      "Best parameters:  {'var_smoothing': 1.0}\n",
      "Test set score: 0.53\n"
     ]
    }
   ],
   "source": [
    "smoothing = np.logspace(0,-9, num=100)\n",
    "param_grid = dict(var_smoothing=smoothing)\n",
    "grid = GridSearchCV(gnb, param_grid, cv=10, scoring='accuracy')\n",
    "grid.fit(X_train, y_train)\n",
    "\n",
    "print(\"Best cross-validation score: {:.2f}\".format(grid.best_score_))\n",
    "print(\"Best parameters: \", grid.best_params_)\n",
    "print(\"Test set score: {:.2f}\".format(grid.score(X_test, y_test)))"
   ],
   "metadata": {
    "collapsed": false
   }
  },
  {
   "cell_type": "code",
   "execution_count": 422,
   "outputs": [
    {
     "data": {
      "text/plain": "0.5276752767527675"
     },
     "execution_count": 422,
     "metadata": {},
     "output_type": "execute_result"
    }
   ],
   "source": [
    "gnb = grid.best_estimator_\n",
    "gnb.fit(X_train, y_train)\n",
    "y_pred = gnb.predict(X_test)\n",
    "accuracy_score(y_test, y_pred)"
   ],
   "metadata": {
    "collapsed": false
   }
  }
 ],
 "metadata": {
  "kernelspec": {
   "display_name": "Python 3",
   "language": "python",
   "name": "python3"
  },
  "language_info": {
   "codemirror_mode": {
    "name": "ipython",
    "version": 2
   },
   "file_extension": ".py",
   "mimetype": "text/x-python",
   "name": "python",
   "nbconvert_exporter": "python",
   "pygments_lexer": "ipython2",
   "version": "2.7.6"
  }
 },
 "nbformat": 4,
 "nbformat_minor": 0
}
