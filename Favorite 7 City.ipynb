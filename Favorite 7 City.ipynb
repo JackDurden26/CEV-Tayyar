{
 "cells": [
  {
   "cell_type": "code",
   "execution_count": null,
   "outputs": [],
   "source": [
    "import pandas as pd\n",
    "import numpy as np\n",
    "population_dict={\n",
    "    \"Ankara\":5747325,\n",
    "    \"Eskişehir\":898369,\n",
    "    \"Çanakkale\": 557276,\n",
    "    \"Balıkesir\":1250610,\n",
    "    \"İzmir\":4425789,\n",
    "    \"Antalya\":2619832,\n",
    "    \"Çankırı\":196515}\n",
    "area_dict={\n",
    "    \"Ankara\":256632,\n",
    "    \"Eskişehir\":13960,\n",
    "    \"Çanakkale\":9817,\n",
    "    \"Balıkesir\":14583,\n",
    "    \"İzmir\":11981,\n",
    "    \"Antalya\":20177,\n",
    "    \"Çankırı\":7542}"
   ],
   "metadata": {
    "collapsed": false,
    "pycharm": {
     "is_executing": true
    }
   }
  },
  {
   "cell_type": "code",
   "execution_count": null,
   "outputs": [],
   "source": [
    "area = pd.Series(area_dict)\n",
    "population=pd.Series(population_dict)"
   ],
   "metadata": {
    "collapsed": false,
    "pycharm": {
     "is_executing": true
    }
   }
  },
  {
   "cell_type": "code",
   "execution_count": null,
   "outputs": [],
   "source": [
    "Best_cities=pd.DataFrame({\"Population\": population,\"Area\": area})\n",
    "Best_cities\n"
   ],
   "metadata": {
    "collapsed": false
   }
  }
 ],
 "metadata": {
  "kernelspec": {
   "display_name": "Python 3",
   "language": "python",
   "name": "python3"
  },
  "language_info": {
   "codemirror_mode": {
    "name": "ipython",
    "version": 2
   },
   "file_extension": ".py",
   "mimetype": "text/x-python",
   "name": "python",
   "nbconvert_exporter": "python",
   "pygments_lexer": "ipython2",
   "version": "2.7.6"
  }
 },
 "nbformat": 4,
 "nbformat_minor": 0
}
