{
 "cells": [
  {
   "cell_type": "markdown",
   "source": [
    "Soru 1)\n",
    "Dersteki pi sayısını bulma tarzında monte carlo yöntemleri gibi, 1 zarı 10000 kere atıp 1 2 3 4 5 6 sayılarını gelme olasılıkları"
   ],
   "metadata": {
    "collapsed": false
   }
  },
  {
   "cell_type": "code",
   "execution_count": 1,
   "outputs": [
    {
     "name": "stdout",
     "output_type": "stream",
     "text": [
      "1 gelme olasılığı:  0.1632\n",
      "2 gelme olasılığı:  0.1732\n",
      "3 gelme olasılığı:  0.1629\n",
      "4 gelme olasılığı:  0.1725\n",
      "5 gelme olasılığı:  0.164\n",
      "6 gelme olasılığı:  0.1642\n",
      "Toplam:  1.0\n"
     ]
    }
   ],
   "source": [
    "import random\n",
    "\n",
    "sayi = 10000\n",
    "\n",
    "zar = [0,0,0,0,0,0]\n",
    "\n",
    "for i in range(sayi):\n",
    "    x = random.random()\n",
    "    if x < 1/6:\n",
    "        zar[0] += 1\n",
    "    elif x < 2/6:\n",
    "        zar[1] += 1\n",
    "    elif x < 3/6:\n",
    "        zar[2] += 1\n",
    "    elif x < 4/6:\n",
    "        zar[3] += 1\n",
    "    elif x < 5/6:\n",
    "        zar[4] += 1\n",
    "    else:\n",
    "        zar[5] += 1\n",
    "\n",
    "for i in range(6):\n",
    "    print(i+1,\"gelme olasılığı: \",zar[i]/sayi)\n",
    "\n",
    "print(\"Toplam: \",sum(zar)/sayi)"
   ],
   "metadata": {
    "collapsed": false
   }
  },
  {
   "cell_type": "markdown",
   "source": [
    "Soru 2)\n",
    "Marko chain yöntemlerini kullanarak 1 yıllık bir kişinin yemek yeme datasını oluşturarak rastgele (hamburger,pizza, lahmancun olacak sadece)\n",
    "Hamburger-hamburger,\n",
    "hamburger-pizza,\n",
    "hamburger lahmancun gelme olaslıklarını hesaplayınız.\n",
    "*Not: bunu pizza ve lahmacun içinde yapınız\n"
   ],
   "metadata": {
    "collapsed": false
   }
  },
  {
   "cell_type": "code",
   "execution_count": 10,
   "outputs": [
    {
     "name": "stdout",
     "output_type": "stream",
     "text": [
      "Hamburger gelme olasılığı:  0.3178082191780822\n",
      "Pizza gelme olasılığı:  0.3315068493150685\n",
      "Lahmacun gelme olasılığı:  0.3506849315068493\n",
      "Hamburgerden sonra pizza gelme olasılığı:  0.4859437751004016\n",
      "Hamburgerden sonra lahmacun gelme olasılığı:  0.5140562248995983\n",
      "Toplam:  1.0\n",
      "Pizzadan sonra lahmacun gelme olasılığı:  0.5245901639344263\n",
      "Pizzadan sonra hamburger gelme olasılığı:  0.47540983606557374\n",
      "Toplam:  1.0\n",
      "Lahmacundan sonra hamburger gelme olasılığı:  0.48945147679324896\n",
      "Lahmacundan sonra pizza gelme olasılığı:  0.510548523206751\n",
      "Toplam:  1.0\n"
     ]
    }
   ],
   "source": [
    "import random\n",
    "\n",
    "yemekler = [\"hamburger\",\"pizza\",\"lahmacun\"]\n",
    "yemek = [0,0,0]\n",
    "\n",
    "for i in range(365):\n",
    "    x = random.random()\n",
    "    if x < 1/3:\n",
    "        yemek[0] += 1\n",
    "    elif x < 2/3:\n",
    "        yemek[1] += 1\n",
    "    else:\n",
    "        yemek[2] += 1\n",
    "\n",
    "print(\"Hamburger gelme olasılığı: \",yemek[0]/365)\n",
    "print(\"Pizza gelme olasılığı: \",yemek[1]/365)\n",
    "print(\"Lahmacun gelme olasılığı: \",yemek[2]/365)\n",
    "\n",
    "\n",
    "print(\"Hamburgerden sonra pizza gelme olasılığı: \",yemek[1]/(365-yemek[0]))\n",
    "print(\"Hamburgerden sonra lahmacun gelme olasılığı: \",yemek[2]/(365-yemek[0]))\n",
    "print(\"Toplam: \",yemek[1]/(365-yemek[0])+yemek[2]/(365-yemek[0]))\n",
    "\n",
    "\n",
    "print(\"Pizzadan sonra lahmacun gelme olasılığı: \",yemek[2]/(365-yemek[1]))\n",
    "print(\"Pizzadan sonra hamburger gelme olasılığı: \",yemek[0]/(365-yemek[1]))\n",
    "print(\"Toplam: \",yemek[2]/(365-yemek[1])+yemek[0]/(365-yemek[1]))\n",
    "\n",
    "\n",
    "print(\"Lahmacundan sonra hamburger gelme olasılığı: \",yemek[0]/(365-yemek[2]))\n",
    "print(\"Lahmacundan sonra pizza gelme olasılığı: \",yemek[1]/(365-yemek[2]))\n",
    "print(\"Toplam: \",yemek[0]/(365-yemek[2])+yemek[1]/(365-yemek[2]))"
   ],
   "metadata": {
    "collapsed": false
   }
  },
  {
   "cell_type": "markdown",
   "source": [
    "Soru 3)\n",
    "2 yıllık altın fiyatı oluşturunuz rastgele 800 ve 1000 arasında\n",
    "Yine markov chain artış azalış sabit kalma 3 durum. olasılıklarınız çıkarınız.\n",
    "Örnek ilk veriniz 800 sonraki veriniz 810 bu artış\n",
    "ilk veriniz 900 sonraki veriniz 850 azalış\n",
    "850 - 850 ise sabit şekilde kategorik hale getirip markov chain uygulayınız"
   ],
   "metadata": {
    "collapsed": false
   }
  },
  {
   "cell_type": "code",
   "execution_count": 13,
   "outputs": [
    {
     "name": "stdout",
     "output_type": "stream",
     "text": [
      "Artış olasılığı:  0.3315068493150685\n",
      "Toplam 1.0\n",
      "Azalıştan sonra artış olasılığı:  0.4782608695652174\n",
      "Azalıştan sonra sabit kalma olasılığı:  0.5217391304347826\n",
      "Toplam:  1.0\n",
      "Artıştan sonra azalış olasılığı:  0.5409836065573771\n",
      "Artıştan sonra sabit kalma olasılığı:  0.45901639344262296\n",
      "Toplam:  1.0\n",
      "Sabit kaldıkdan sonra artış olasılığı:  0.51931330472103\n",
      "Sabit kaldıkdan sonra azalış olasılığı:  0.48068669527896996\n",
      "Toplam:  1.0\n"
     ]
    }
   ],
   "source": [
    "import random\n",
    "\n",
    "olasılıklar = [\"artış\",\"azalış\",\"sabit\"]\n",
    "\n",
    "altın = [0,0,0]\n",
    "\n",
    "for i in range(365*2):\n",
    "    x = random.random()\n",
    "    if x < 1/3:\n",
    "        altın[0] += 1\n",
    "    elif x < 2/3:\n",
    "        altın[1] += 1\n",
    "    else:\n",
    "        altın[2] += 1\n",
    "\n",
    "print(\"Artış olasılığı: \",altın[0]/(365*2))\n",
    "print(\"Toplam\", altın[0]/(365*2)+altın[1]/(365*2)+altın[2]/(365*2))\n",
    "\n",
    "\n",
    "print(\"Azalıştan sonra artış olasılığı: \",altın[0]/(365*2-altın[2]))\n",
    "print(\"Azalıştan sonra sabit kalma olasılığı: \",altın[1]/(365*2-altın[2]))\n",
    "print(\"Toplam: \",altın[0]/(365*2-altın[2])+altın[1]/(365*2-altın[2]))\n",
    "\n",
    "print(\"Artıştan sonra azalış olasılığı: \",altın[1]/(365*2-altın[0]))\n",
    "print(\"Artıştan sonra sabit kalma olasılığı: \",altın[2]/(365*2-altın[0]))\n",
    "print(\"Toplam: \",altın[1]/(365*2-altın[0])+altın[2]/(365*2-altın[0]))\n",
    "\n",
    "print(\"Sabit kaldıkdan sonra artış olasılığı: \",altın[0]/(365*2-altın[1]))\n",
    "print(\"Sabit kaldıkdan sonra azalış olasılığı: \",altın[2]/(365*2-altın[1]))\n",
    "print(\"Toplam: \",altın[0]/(365*2-altın[1])+altın[2]/(365*2-altın[1]))"
   ],
   "metadata": {
    "collapsed": false
   }
  },
  {
   "cell_type": "markdown",
   "source": [
    "Soru 4\n",
    "60 adet cümle bularak yada yazarak biribine benzer olursa güzel olur.\n",
    "Bunları sparse matrix haline dönüştürmeniz gerekmektedir.\n",
    "Sonuçta hangi kelimeden sonra hangi kelimenin gelme olasılığı"
   ],
   "metadata": {
    "collapsed": false
   }
  },
  {
   "cell_type": "code",
   "execution_count": null,
   "outputs": [],
   "source": [
    "import random\n",
    "import pandas as pd\n",
    "\n",
    "df = pd.read_excel(\"MainDataset.xlsx\")\n",
    "\n",
    "cumleler = df[\"comments\"].head(60)\n",
    "\n",
    "import string\n",
    "def remove_punctuation(text):\n",
    "    no_punct = \"\".join([c for c in text if c not in string.punctuation])\n",
    "    return no_punct\n",
    "\n",
    "cumleler = cumleler.apply(lambda x: remove_punctuation(x))\n",
    "\n",
    "from nltk.tokenize import word_tokenize\n",
    "cumleler = [word_tokenize(i) for i in cumleler]\n",
    "lowercase = []\n",
    "for i in cumleler:\n",
    "    lowercase.append([word.lower() for word in i])\n",
    "\n",
    "words = []\n",
    "for i in lowercase:\n",
    "    for j in i:\n",
    "        words.append(j)#%% md\n",
    "Soru 1)\n",
    "Dersteki pi sayısını bulma tarzında monte carlo yöntemleri gibi, 1 zarı 10000 kere atıp 1 2 3 4 5 6 sayılarını gelme olasılıkları"
   ],
   "metadata": {
    "collapsed": false
   }
  },
  {
   "cell_type": "code",
   "execution_count": null,
   "outputs": [],
   "source": [
    "import random\n",
    "\n",
    "sayi = 10000\n",
    "\n",
    "zar = [0,0,0,0,0,0]\n",
    "\n",
    "for i in range(sayi):\n",
    "    x = random.random()\n",
    "    if x < 1/6:\n",
    "        zar[0] += 1\n",
    "    elif x < 2/6:\n",
    "        zar[1] += 1\n",
    "    elif x < 3/6:\n",
    "        zar[2] += 1\n",
    "    elif x < 4/6:\n",
    "        zar[3] += 1\n",
    "    elif x < 5/6:\n",
    "        zar[4] += 1\n",
    "    else:\n",
    "        zar[5] += 1\n",
    "\n",
    "for i in range(6):\n",
    "    print(i+1,\"gelme olasılığı: \",zar[i]/sayi)\n",
    "\n",
    "print(\"Toplam: \",sum(zar)/sayi)"
   ],
   "metadata": {
    "collapsed": false
   }
  },
  {
   "cell_type": "markdown",
   "source": [
    "Soru 2)\n",
    "Marko chain yöntemlerini kullanarak 1 yıllık bir kişinin yemek yeme datasını oluşturarak rastgele (hamburger,pizza, lahmancun olacak sadece)\n",
    "Hamburger-hamburger,\n",
    "hamburger-pizza,\n",
    "hamburger lahmancun gelme olaslıklarını hesaplayınız.\n",
    "*Not: bunu pizza ve lahmacun içinde yapınız\n"
   ],
   "metadata": {
    "collapsed": false
   }
  },
  {
   "cell_type": "code",
   "execution_count": null,
   "outputs": [],
   "source": [
    "import random\n",
    "\n",
    "yemekler = [\"hamburger\",\"pizza\",\"lahmacun\"]\n",
    "yemek = [0,0,0]\n",
    "\n",
    "for i in range(365):\n",
    "    x = random.random()\n",
    "    if x < 1/3:\n",
    "        yemek[0] += 1\n",
    "    elif x < 2/3:\n",
    "        yemek[1] += 1\n",
    "    else:\n",
    "        yemek[2] += 1\n",
    "\n",
    "print(\"Hamburger gelme olasılığı: \",yemek[0]/365)\n",
    "print(\"Pizza gelme olasılığı: \",yemek[1]/365)\n",
    "print(\"Lahmacun gelme olasılığı: \",yemek[2]/365)\n",
    "\n",
    "\n",
    "print(\"Hamburgerden sonra pizza gelme olasılığı: \",yemek[1]/(365-yemek[0]))\n",
    "print(\"Hamburgerden sonra lahmacun gelme olasılığı: \",yemek[2]/(365-yemek[0]))\n",
    "print(\"Toplam: \",yemek[1]/(365-yemek[0])+yemek[2]/(365-yemek[0]))\n",
    "\n",
    "\n",
    "print(\"Pizzadan sonra lahmacun gelme olasılığı: \",yemek[2]/(365-yemek[1]))\n",
    "print(\"Pizzadan sonra hamburger gelme olasılığı: \",yemek[0]/(365-yemek[1]))\n",
    "print(\"Toplam: \",yemek[2]/(365-yemek[1])+yemek[0]/(365-yemek[1]))\n",
    "\n",
    "\n",
    "print(\"Lahmacundan sonra hamburger gelme olasılığı: \",yemek[0]/(365-yemek[2]))\n",
    "print(\"Lahmacundan sonra pizza gelme olasılığı: \",yemek[1]/(365-yemek[2]))\n",
    "print(\"Toplam: \",yemek[0]/(365-yemek[2])+yemek[1]/(365-yemek[2]))"
   ],
   "metadata": {
    "collapsed": false
   }
  },
  {
   "cell_type": "markdown",
   "source": [
    "Soru 3)\n",
    "2 yıllık altın fiyatı oluşturunuz rastgele 800 ve 1000 arasında\n",
    "Yine markov chain artış azalış sabit kalma 3 durum. olasılıklarınız çıkarınız.\n",
    "Örnek ilk veriniz 800 sonraki veriniz 810 bu artış\n",
    "ilk veriniz 900 sonraki veriniz 850 azalış\n",
    "850 - 850 ise sabit şekilde kategorik hale getirip markov chain uygulayınız"
   ],
   "metadata": {
    "collapsed": false
   }
  },
  {
   "cell_type": "code",
   "execution_count": null,
   "outputs": [],
   "source": [
    "import random\n",
    "\n",
    "olasılıklar = [\"artış\",\"azalış\",\"sabit\"]\n",
    "\n",
    "altın = [0,0,0]\n",
    "\n",
    "for i in range(365*2):\n",
    "    x = random.random()\n",
    "    if x < 1/3:\n",
    "        altın[0] += 1\n",
    "    elif x < 2/3:\n",
    "        altın[1] += 1\n",
    "    else:\n",
    "        altın[2] += 1\n",
    "\n",
    "print(\"Artış olasılığı: \",altın[0]/(365*2))\n",
    "print(\"Toplam\", altın[0]/(365*2)+altın[1]/(365*2)+altın[2]/(365*2))\n",
    "\n",
    "\n",
    "print(\"Azalıştan sonra artış olasılığı: \",altın[0]/(365*2-altın[2]))\n",
    "print(\"Azalıştan sonra sabit kalma olasılığı: \",altın[1]/(365*2-altın[2]))\n",
    "print(\"Toplam: \",altın[0]/(365*2-altın[2])+altın[1]/(365*2-altın[2]))\n",
    "\n",
    "print(\"Artıştan sonra azalış olasılığı: \",altın[1]/(365*2-altın[0]))\n",
    "print(\"Artıştan sonra sabit kalma olasılığı: \",altın[2]/(365*2-altın[0]))\n",
    "print(\"Toplam: \",altın[1]/(365*2-altın[0])+altın[2]/(365*2-altın[0]))\n",
    "\n",
    "print(\"Sabit kaldıkdan sonra artış olasılığı: \",altın[0]/(365*2-altın[1]))\n",
    "print(\"Sabit kaldıkdan sonra azalış olasılığı: \",altın[2]/(365*2-altın[1]))\n",
    "print(\"Toplam: \",altın[0]/(365*2-altın[1])+altın[2]/(365*2-altın[1]))"
   ],
   "metadata": {
    "collapsed": false
   }
  },
  {
   "cell_type": "markdown",
   "source": [
    "Soru 4\n",
    "60 adet cümle bularak yada yazarak biribine benzer olursa güzel olur.\n",
    "Bunları sparse matrix haline dönüştürmeniz gerekmektedir.\n",
    "Sonuçta hangi kelimeden sonra hangi kelimenin gelme olasılığı"
   ],
   "metadata": {
    "collapsed": false
   }
  },
  {
   "cell_type": "code",
   "execution_count": 87,
   "outputs": [],
   "source": [
    "import random\n",
    "import pandas as pd\n",
    "\n",
    "df = pd.read_excel(\"MainDataset.xlsx\")\n",
    "\n",
    "cumleler = df[\"comments\"].head(60)"
   ],
   "metadata": {
    "collapsed": false
   }
  },
  {
   "cell_type": "code",
   "execution_count": 88,
   "outputs": [
    {
     "data": {
      "text/plain": "['beyaz',\n 'takımın',\n 'alt',\n 'kısmı',\n 'çok',\n 'ince',\n 've',\n 'biraz',\n 'rahatsız',\n 'ediyor',\n '165',\n 'boy',\n '56',\n 'kilo',\n '80',\n 'beden',\n 'göğüs',\n 'l',\n 'aldm',\n 'xl',\n 'alsam',\n 'daha',\n 'iyi',\n 'olurmuş',\n 'siyah',\n 'takım',\n 'çok',\n 'rahat',\n 've',\n 'esnek',\n 'kendi',\n 'bedeninizden',\n 'bir',\n 'beden',\n 'büyük',\n 'alabilirsiniz',\n 'rahatınıza',\n 'düşkünseniz',\n 'kahverenginin',\n 'kumaşı',\n 'ise',\n 'siyaha',\n 'göre',\n 'bir',\n 'tık',\n 'kalın',\n 'fiyatina',\n 'gelecek',\n 'olursam',\n 'normal',\n 'bir',\n 'ic',\n 'çamaşırı',\n '20',\n '30tl',\n 'bir',\n 'takim',\n '50tlye',\n 'çok',\n 'degil',\n 'bencebir',\n 'yıldızı',\n 'da',\n 'tüm',\n 'ürünlerin',\n 'kumaso',\n 've',\n 'esnekliği',\n 'birbirinden',\n 'kesinlikle',\n '1',\n 'beden',\n 'büyük',\n 'tercih',\n 'edilmeli',\n 'kalite',\n 'olarakta',\n 'normal',\n 'çok',\n 'bişey',\n 'beklemeyin',\n 'tek',\n 'kelimeyle',\n 'rezalet',\n 'xl',\n 'beden',\n 'sipariş',\n 'verdim',\n 'elime',\n 'gelen',\n 'ürün',\n 'xs',\n 'ayrıca',\n 'üzerinde',\n 'beden',\n 'numarası',\n 'yok',\n 'uzun',\n 'zamandır',\n 'böyle',\n 'saçma',\n 'bir',\n 'ürünle',\n 'karşılaşmamıştım',\n 'ürünü',\n 'çok',\n 'beğendim',\n 'tam',\n 'bedeninizi',\n 'alabilirsiniz',\n 'gayet',\n 'esnek',\n 'benim',\n 'çok',\n 'hoşuma',\n 'gitti',\n 'gayet',\n 'güzel',\n '1',\n 'beden',\n 'büyük',\n 'alınabilir',\n 'tam',\n 'bedeninizi',\n 'almanızı',\n 'tavsiye',\n 'ederim',\n 'gayet',\n 'güzel',\n 'ama',\n 'yarim',\n 'atlet',\n 'li',\n 'kısım',\n 'biraz',\n 'daha',\n 'lastiği',\n 'sıkı',\n 'olsa',\n 'çok',\n 'daha',\n 'güzel',\n 'olurdu',\n 'ama',\n 'olsun',\n 'ben',\n 'beğendim',\n 'fiyatı',\n 'gayet',\n 'uygun',\n 'hızlı',\n 'teslimat',\n 'oldu',\n 'memnun',\n 'kaldım',\n 'ilgileriniz',\n 'için',\n 'teşekkür',\n 'ederim',\n 'iyi',\n 'günler',\n 'aşırı',\n 'güzel',\n 'bi',\n 'ürün',\n 'tam',\n 'bedeninizi',\n 'alınn',\n 'ürün',\n 'gayet',\n 'güzel',\n 'tam',\n 'beden',\n 'alın',\n 'm',\n 'beden',\n 'biri',\n 'olarak',\n 'l',\n 'aldım',\n 'tam',\n 'kararında',\n 'oldu',\n 'ayrıca',\n 'gayet',\n 'yumuşak',\n 've',\n 'kaliteli',\n 'çokkk',\n 'güzelll',\n 'beğendim',\n 'kaliteli',\n 'bir',\n 'takım',\n 'bedeninize',\n 'uygun',\n 'olarak',\n 'alın',\n 'tavsiye',\n 'ediyorum',\n 'resimdeki',\n 'gibi',\n 'geldi',\n 've',\n 'tıpkı',\n 'resimdeki',\n 'gibi',\n 'de',\n 'güzel',\n 'duruyor',\n 'çok',\n 'şık',\n 've',\n 'rahat',\n 'bir',\n 'takım',\n 'kumaşı',\n 'da',\n 'yumuşacık',\n 'kendi',\n 'bedenimi',\n 'aldım',\n 'tam',\n 'oldu',\n 'ürün',\n 'bana',\n 'sert',\n 'kumaş',\n 'olarak',\n 'gelmedi',\n 'keşke',\n 'öyle',\n 'olsaydı',\n 'ama',\n 'böyle',\n 'de',\n 'begendım',\n 'hediye',\n 'koyamamışlar',\n 'neden',\n 'naptım',\n 'size',\n 'whatever',\n 'asko',\n 'çok',\n 'yakıştı',\n 'sıze',\n 'de',\n 'yakısır',\n 'bnece',\n 'bayıldım',\n 'sm',\n 'aldım',\n 'çook',\n 'kaliteli',\n 'kendi',\n 'bedeninizi',\n 'almanız',\n 'yeterli',\n 'kumaş',\n 'kalın',\n 'değil',\n 'yumuşacık',\n 'krem',\n 'renkten',\n 'çok',\n 'farklı',\n 'ince',\n 'model',\n 'resimdeki',\n 'aynı',\n 'paketleme',\n 'güzel',\n 'ben',\n '164',\n 'sm',\n '54',\n 'kg',\n '85c',\n 'beden',\n 'l',\n 'aldım',\n 'güzel',\n 'oldu',\n 'ama',\n 'daha',\n '2',\n 'beden',\n 'daha',\n 'büyük',\n 'almanızı',\n 'tavsiye',\n 'ediyorum',\n 'l',\n 'almama',\n 'rağmen',\n 'küçük',\n 'geldi',\n 'saçmalık',\n 'kalitesi',\n 'iyi',\n 'ama',\n 'beden',\n 'numaraları',\n 'tutmuyor',\n 's',\n 'giyenler',\n 'l',\n 'alabilirsiniz',\n 'direk',\n 'bu',\n 'ürün',\n 'biraz',\n 'daha',\n 'yumuşak',\n 'yapıda',\n 'tavsiye',\n 'ederim',\n 'biraz',\n 'sert',\n 'yapısı',\n 'ama',\n 'güzel',\n 'duruyor',\n 'iki',\n 'beden',\n 'buyuk',\n 'alin',\n 'alti',\n 'tanga',\n 'gibi',\n 'oldu',\n 'ben',\n 'bir',\n 'beden',\n 'büyük',\n 'almıştım',\n 'halbuki',\n 'kaliplarda',\n 'sıkıntı',\n 'var',\n 'onun',\n 'disinda',\n 'kışlık',\n 'yani',\n 'kumasi',\n 'kalin',\n 've',\n 'rahat',\n 'ama',\n 'bedende',\n 'sıkıntı',\n 'var',\n 'one',\n 'cikmasi',\n 'icin',\n '5',\n 'yildiz',\n 'verdim',\n 'benim',\n 'icin',\n '2',\n 'yıldız',\n 'o',\n 'da',\n 'kalitesi',\n 'icin',\n 'teşekkürler',\n 'ürün',\n 'l',\n 'beden',\n 'istedik',\n 'tam',\n 'eyvallah',\n 'l',\n 'beden',\n 'geldi',\n 'ama',\n 'bu',\n 'nasıl',\n 'l',\n 'beden',\n 'bebeğe',\n 'dahi',\n 'zor',\n 'olur',\n 'dalgamı',\n 'geçiyorsunuz',\n 'gerçekten',\n 'hiç',\n 'ama',\n 'hiç',\n 'beğenmedim',\n 'ürün',\n 'çok',\n 'güzel',\n 'kendi',\n 'bedeninizi',\n 'alın',\n 'ürün',\n 'güzel',\n 've',\n 'kullanışlı',\n 'kendi',\n 'beden',\n 'ölçünüze',\n 'göre',\n 'tercih',\n 'edebilirsiniz',\n 'süper',\n 'bir',\n 'ürün',\n 'bedenimde',\n 'tam',\n 'oldu',\n 'diğer',\n 'renklerini',\n 'de',\n 'almayı',\n 'düşünüyorum',\n 'mükemmel',\n 'bi',\n 'ürün',\n 'çok',\n 'esnek',\n '165',\n '55',\n 'm',\n 'beden',\n 'aldım',\n 'tam',\n 'oldu',\n 'fotoğraftakinin',\n 'aynısı',\n 'yorumlara',\n 'bakarak',\n 'bir',\n 'beden',\n 'büyük',\n 'aldım',\n 'büyük',\n 'oldu',\n 'tam',\n 'bedeninizi',\n 'almalısınız',\n 'çok',\n 'rahat',\n 'bir',\n 'ürün',\n 'kesinlikle',\n 'göründüğü',\n 'gibi',\n 'değil',\n 's',\n 'beden',\n 'almama',\n 'rağmen',\n 'çok',\n 'kötü',\n 'oldu',\n 'sıkı',\n 'asla',\n 'tutmuyor',\n 'boşa',\n 'almayın',\n 'hüsran',\n 'yumuşacık',\n 'rahat',\n 'güzel',\n 'bir',\n 'ürün',\n 'yorumlardan',\n 'dolayı',\n 'tereddüt',\n 'ettim',\n 'ama',\n 'güzel',\n 'çıktı',\n 'kumaşlar',\n 'biraz',\n 'kalın',\n 'ama',\n 'beğendim',\n 'tam',\n 'beden',\n 'iki',\n 'renk',\n 'sipariş',\n 'verdim',\n 'sadece',\n 'siyah',\n 'biraz',\n 'kalın',\n 'geldi',\n 'ten',\n 'renginin',\n 'kumaşı',\n 'biraz',\n 'daha',\n 'yumuşak',\n 'ben',\n 'çok',\n 'beğendim',\n 'bana',\n 'tam',\n 'oluyor',\n 'guzel',\n 'bir',\n 'urun',\n 'kendi',\n 'bedeninizi',\n 'alin',\n 'çok',\n 'güzel',\n 'gerçekten',\n 'beğendim',\n 'rahat',\n 'beden',\n 'ben',\n 's',\n 'bedenim',\n 'aldım',\n 'tam',\n 'oldu',\n 'ama',\n 'kalıbı',\n 'dar',\n 'teslimat',\n 'biraz',\n 'gecikti',\n 'fakat',\n 'ürünler',\n 'güzel',\n 'kendi',\n 'bedeninizi',\n 'alın',\n 'yumuşak',\n 'tam',\n 'kalıp',\n 'm',\n 'beden',\n 'aldım',\n 'kumaşı',\n 'güzeldi',\n 'l',\n 'alsam',\n 'daha',\n 'rahat',\n 'olurmuş',\n 'ürün',\n 'kısa',\n 'sürede',\n 'ulaşti',\n 'tam',\n 'bedeninizi',\n 'almaniz',\n 'iyi',\n 'olur',\n 'ürünlerin',\n 'üzerinde',\n 'beden',\n 'yazmıyor',\n 'çok',\n 'çok',\n 'rahat',\n 've',\n 'çok',\n 'kullanışlı',\n 'bi',\n 'ürün',\n 'kumaşı',\n 'esnek',\n 've',\n 'yumuşacık',\n 'kendi',\n 'bedeninizi',\n 'alabilirsiniz',\n 'kardeşime',\n 'aldım',\n 'çok',\n 'rahat',\n 'olduğunu',\n 'söyledi',\n 'kızıma',\n 'aldık',\n 'çok',\n 'beğendi',\n 'hızlı',\n 'teslimatçok',\n 'kaliteli',\n 'bisey',\n 'beklemeyin',\n 'ama',\n 'alınabilirbasenlerim',\n 'büyük',\n 'olduğu',\n 'için',\n 'bir',\n 'beden',\n 'büyük',\n 'alabilirmişim',\n 'güzel',\n 'beğendim',\n 'teşekkür',\n 'ederim',\n 'çok',\n 'rahat',\n 'kesinlikle',\n 'tavsiye',\n 'ederim',\n 'kendi',\n 'bedeninizi',\n 'alabilirsiniz',\n 'ertesi',\n 'gün',\n 'elime',\n 'ulaştı',\n 'bir',\n 'kaç',\n 'tane',\n 'daha',\n 'sipariş',\n 'vermeyi',\n 'planlıyoru',\n 'kesinlikle',\n 'tavsiye',\n 'ediyorum',\n 'kuması',\n 'esnek',\n '155',\n '49',\n 'kilo',\n 's',\n 'aldım',\n 'tam',\n 'oldu',\n 'büyük',\n 'beden',\n 'giyenler',\n 'hic',\n 'almasin',\n 'küçük',\n 'bir',\n 'şekilde',\n 'geliyor',\n 'bir',\n 'beden',\n 'büyük',\n 'almanızı',\n 'tavsiye',\n 'ederim',\n 'fakat',\n 'üst',\n 'mankende',\n 'oldugu',\n 'gibi',\n 'degil',\n 'daha',\n 'cok',\n 'düz',\n 'yarım',\n 'atlet',\n 'gibi',\n 'bunu',\n 'bekleyerek',\n 'alın',\n 'üzülmeyin',\n 'sonrasında',\n 'xl',\n 'beden',\n 'aldım',\n 'üzerime',\n 'tam',\n 'oturdu',\n 'kumaşı',\n 'yumuşacık',\n 'çok',\n 'rahat',\n 've',\n 'güzel',\n 'tavsiye',\n 'ederim',\n 'kendi',\n 'bedeninizi',\n 'alabilirsiniz',\n 'malesef',\n 'ürün',\n 'cok',\n 'küçük',\n 've',\n 'kalıbı',\n 'dar',\n 'xl',\n 'sipariş',\n 'verdim',\n 's',\n 'beden',\n 'giyen',\n 'arkadasima',\n 'oldu',\n 'hepsini',\n 'ona',\n 'verdim',\n '4',\n 'takim',\n 'siparis',\n 'vermiştim',\n 'sonuc',\n 'malesef',\n 'hüsran',\n 'ürün',\n 'görseldekinin',\n 'aynısı',\n 'hiçbir',\n 'farkı',\n 'yok',\n 'ben',\n 'kendi',\n 'bedenime',\n 'göre',\n 'aldım',\n 'tam',\n 'oldu',\n 'siz',\n 'de',\n 'kendi',\n 'bedeninize',\n 'göre',\n 'alın',\n 'bence',\n 'kalın',\n 'bir',\n 'yapısı',\n 'var',\n 'çok',\n 'ince',\n 'bir',\n 'şey',\n 'de',\n 'beklemeyin',\n 'sadece',\n 'üründe',\n 'biraz',\n 'fazla',\n 'çıkmış',\n 'ip',\n 'vardı',\n 'biraz',\n 'daha',\n 'özenli',\n 'olabilirdi',\n 'diye',\n 'düşünüyorum',\n 'ama',\n 'fiyatına',\n 'göre',\n 'genel',\n 'olarak',\n 'ben',\n 'çok',\n 'beğendim',\n 'tavsiye',\n 'ederim',\n 'gayet',\n 'güzeldi',\n 'çok',\n 'beğendim',\n 'bedeninizi',\n 'almanızı',\n 'tavsiye',\n 'ederim',\n 'cok',\n 'guzeldi',\n 'cok',\n 'beyendim',\n 'bedeni',\n 'falanda',\n 'tamdı',\n 'bedeninizden',\n '2',\n 'neden',\n 'falan',\n 'büyük',\n 'alınmalı',\n 'sıkı',\n 'geldi',\n 'biraz',\n 'yumuşacık',\n 'harika',\n 'kalitesi',\n 'güzel',\n 'yumuşak',\n 'ben',\n 'beğendim',\n 'cok',\n 'kotu',\n 'sert',\n 've',\n 'kalin',\n 'almaniza',\n 'değmez',\n 'çok',\n 'güzel',\n 'çıktı',\n 'tam',\n 'bedeninizi',\n 'alın',\n 'üstü',\n 'için',\n 'almıştım',\n 'altını',\n 'pek',\n 'beğenmedim',\n 'ama',\n 'inanılmaz',\n 'kaliteli',\n 'bir',\n 'ürün',\n 'ürün',\n 'güzel',\n 'normalde',\n 'm',\n 'beden',\n 'giyiyorum',\n 'diye',\n 'm',\n 'aldım',\n 'biraz',\n 'küçük',\n 'oldu',\n 'ama',\n 'rahatsız',\n 'hissetmiyorum',\n 'kullanabilirim',\n 'l',\n 'alsaydım',\n 'daha',\n 'iyiydi',\n 'gerçi',\n 'rahat',\n 've',\n 'yumuşak',\n 'kumaş',\n 'cok',\n 'rahat',\n 'cok',\n 'güzel',\n 'kendi',\n 'bedeninizi',\n 'alın',\n 'bedeni',\n 'normalde',\n 's',\n 'sipariş',\n 'etmiştim',\n 'ama',\n 'sm',\n 'geldi',\n 'benini',\n 'bu',\n 'şekilde',\n 'belirtselerdi',\n 'daha',\n 'iyi',\n 'olurdu',\n 'onun',\n 'dışında',\n 'güzel',\n 'bi',\n 'ürün',\n 'fiyatına',\n 'göre',\n 'mükemmel',\n 'hatta',\n 'beğendim',\n 'ürün',\n 'güzel',\n 'iki',\n 'farklı',\n 'rengini',\n 'aldım',\n 'tam',\n 'bedeninizi',\n 'alabilirsiniz']"
     },
     "execution_count": 88,
     "metadata": {},
     "output_type": "execute_result"
    }
   ],
   "source": [
    "import string\n",
    "def remove_punctuation(text):\n",
    "    no_punct = \"\".join([c for c in text if c not in string.punctuation])\n",
    "    return no_punct\n",
    "\n",
    "cumleler = cumleler.apply(lambda x: remove_punctuation(x))\n",
    "\n",
    "from nltk.tokenize import word_tokenize\n",
    "cumleler = [word_tokenize(i) for i in cumleler]\n",
    "lowercase = []\n",
    "for i in cumleler:\n",
    "    lowercase.append([word.lower() for word in i])\n",
    "\n",
    "words = []\n",
    "for i in lowercase:\n",
    "    for j in i:\n",
    "        words.append(j)\n",
    "\n",
    "words"
   ],
   "metadata": {
    "collapsed": false
   }
  },
  {
   "cell_type": "code",
   "execution_count": 89,
   "outputs": [
    {
     "data": {
      "text/plain": "Counter({'beyaz': 1,\n         'takımın': 1,\n         'alt': 1,\n         'kısmı': 1,\n         'çok': 27,\n         'ince': 3,\n         've': 14,\n         'biraz': 12,\n         'rahatsız': 2,\n         'ediyor': 1,\n         '165': 2,\n         'boy': 1,\n         '56': 1,\n         'kilo': 2,\n         '80': 1,\n         'beden': 30,\n         'göğüs': 1,\n         'l': 10,\n         'aldm': 1,\n         'xl': 4,\n         'alsam': 2,\n         'daha': 13,\n         'iyi': 5,\n         'olurmuş': 2,\n         'siyah': 2,\n         'takım': 3,\n         'rahat': 13,\n         'esnek': 5,\n         'kendi': 13,\n         'bedeninizden': 2,\n         'bir': 20,\n         'büyük': 12,\n         'alabilirsiniz': 7,\n         'rahatınıza': 1,\n         'düşkünseniz': 1,\n         'kahverenginin': 1,\n         'kumaşı': 6,\n         'ise': 1,\n         'siyaha': 1,\n         'göre': 6,\n         'tık': 1,\n         'kalın': 5,\n         'fiyatina': 1,\n         'gelecek': 1,\n         'olursam': 1,\n         'normal': 2,\n         'ic': 1,\n         'çamaşırı': 1,\n         '20': 1,\n         '30tl': 1,\n         'takim': 2,\n         '50tlye': 1,\n         'degil': 2,\n         'bencebir': 1,\n         'yıldızı': 1,\n         'da': 3,\n         'tüm': 1,\n         'ürünlerin': 2,\n         'kumaso': 1,\n         'esnekliği': 1,\n         'birbirinden': 1,\n         'kesinlikle': 4,\n         '1': 2,\n         'tercih': 2,\n         'edilmeli': 1,\n         'kalite': 1,\n         'olarakta': 1,\n         'bişey': 1,\n         'beklemeyin': 3,\n         'tek': 1,\n         'kelimeyle': 1,\n         'rezalet': 1,\n         'sipariş': 5,\n         'verdim': 5,\n         'elime': 2,\n         'gelen': 1,\n         'ürün': 20,\n         'xs': 1,\n         'ayrıca': 2,\n         'üzerinde': 2,\n         'numarası': 1,\n         'yok': 2,\n         'uzun': 1,\n         'zamandır': 1,\n         'böyle': 2,\n         'saçma': 1,\n         'ürünle': 1,\n         'karşılaşmamıştım': 1,\n         'ürünü': 1,\n         'beğendim': 11,\n         'tam': 20,\n         'bedeninizi': 16,\n         'gayet': 7,\n         'benim': 2,\n         'hoşuma': 1,\n         'gitti': 1,\n         'güzel': 23,\n         'alınabilir': 1,\n         'almanızı': 4,\n         'tavsiye': 10,\n         'ederim': 9,\n         'ama': 17,\n         'yarim': 1,\n         'atlet': 2,\n         'li': 1,\n         'kısım': 1,\n         'lastiği': 1,\n         'sıkı': 3,\n         'olsa': 1,\n         'olurdu': 2,\n         'olsun': 1,\n         'ben': 8,\n         'fiyatı': 1,\n         'uygun': 2,\n         'hızlı': 2,\n         'teslimat': 2,\n         'oldu': 14,\n         'memnun': 1,\n         'kaldım': 1,\n         'ilgileriniz': 1,\n         'için': 3,\n         'teşekkür': 2,\n         'günler': 1,\n         'aşırı': 1,\n         'bi': 4,\n         'alınn': 1,\n         'alın': 8,\n         'm': 5,\n         'biri': 1,\n         'olarak': 4,\n         'aldım': 14,\n         'kararında': 1,\n         'yumuşak': 6,\n         'kaliteli': 5,\n         'çokkk': 1,\n         'güzelll': 1,\n         'bedeninize': 2,\n         'ediyorum': 3,\n         'resimdeki': 3,\n         'gibi': 6,\n         'geldi': 6,\n         'tıpkı': 1,\n         'de': 6,\n         'duruyor': 2,\n         'şık': 1,\n         'yumuşacık': 6,\n         'bedenimi': 1,\n         'bana': 2,\n         'sert': 3,\n         'kumaş': 3,\n         'gelmedi': 1,\n         'keşke': 1,\n         'öyle': 1,\n         'olsaydı': 1,\n         'begendım': 1,\n         'hediye': 1,\n         'koyamamışlar': 1,\n         'neden': 2,\n         'naptım': 1,\n         'size': 1,\n         'whatever': 1,\n         'asko': 1,\n         'yakıştı': 1,\n         'sıze': 1,\n         'yakısır': 1,\n         'bnece': 1,\n         'bayıldım': 1,\n         'sm': 3,\n         'çook': 1,\n         'almanız': 1,\n         'yeterli': 1,\n         'değil': 2,\n         'krem': 1,\n         'renkten': 1,\n         'farklı': 2,\n         'model': 1,\n         'aynı': 1,\n         'paketleme': 1,\n         '164': 1,\n         '54': 1,\n         'kg': 1,\n         '85c': 1,\n         '2': 3,\n         'almama': 2,\n         'rağmen': 2,\n         'küçük': 4,\n         'saçmalık': 1,\n         'kalitesi': 3,\n         'numaraları': 1,\n         'tutmuyor': 2,\n         's': 6,\n         'giyenler': 2,\n         'direk': 1,\n         'bu': 3,\n         'yapıda': 1,\n         'yapısı': 2,\n         'iki': 3,\n         'buyuk': 1,\n         'alin': 2,\n         'alti': 1,\n         'tanga': 1,\n         'almıştım': 2,\n         'halbuki': 1,\n         'kaliplarda': 1,\n         'sıkıntı': 2,\n         'var': 3,\n         'onun': 2,\n         'disinda': 1,\n         'kışlık': 1,\n         'yani': 1,\n         'kumasi': 1,\n         'kalin': 2,\n         'bedende': 1,\n         'one': 1,\n         'cikmasi': 1,\n         'icin': 3,\n         '5': 1,\n         'yildiz': 1,\n         'yıldız': 1,\n         'o': 1,\n         'teşekkürler': 1,\n         'istedik': 1,\n         'eyvallah': 1,\n         'nasıl': 1,\n         'bebeğe': 1,\n         'dahi': 1,\n         'zor': 1,\n         'olur': 2,\n         'dalgamı': 1,\n         'geçiyorsunuz': 1,\n         'gerçekten': 2,\n         'hiç': 2,\n         'beğenmedim': 2,\n         'kullanışlı': 2,\n         'ölçünüze': 1,\n         'edebilirsiniz': 1,\n         'süper': 1,\n         'bedenimde': 1,\n         'diğer': 1,\n         'renklerini': 1,\n         'almayı': 1,\n         'düşünüyorum': 2,\n         'mükemmel': 2,\n         '55': 1,\n         'fotoğraftakinin': 1,\n         'aynısı': 2,\n         'yorumlara': 1,\n         'bakarak': 1,\n         'almalısınız': 1,\n         'göründüğü': 1,\n         'kötü': 1,\n         'asla': 1,\n         'boşa': 1,\n         'almayın': 1,\n         'hüsran': 2,\n         'yorumlardan': 1,\n         'dolayı': 1,\n         'tereddüt': 1,\n         'ettim': 1,\n         'çıktı': 2,\n         'kumaşlar': 1,\n         'renk': 1,\n         'sadece': 2,\n         'ten': 1,\n         'renginin': 1,\n         'oluyor': 1,\n         'guzel': 1,\n         'urun': 1,\n         'bedenim': 1,\n         'kalıbı': 2,\n         'dar': 2,\n         'gecikti': 1,\n         'fakat': 2,\n         'ürünler': 1,\n         'kalıp': 1,\n         'güzeldi': 2,\n         'kısa': 1,\n         'sürede': 1,\n         'ulaşti': 1,\n         'almaniz': 1,\n         'yazmıyor': 1,\n         'kardeşime': 1,\n         'olduğunu': 1,\n         'söyledi': 1,\n         'kızıma': 1,\n         'aldık': 1,\n         'beğendi': 1,\n         'teslimatçok': 1,\n         'bisey': 1,\n         'alınabilirbasenlerim': 1,\n         'olduğu': 1,\n         'alabilirmişim': 1,\n         'ertesi': 1,\n         'gün': 1,\n         'ulaştı': 1,\n         'kaç': 1,\n         'tane': 1,\n         'vermeyi': 1,\n         'planlıyoru': 1,\n         'kuması': 1,\n         '155': 1,\n         '49': 1,\n         'hic': 1,\n         'almasin': 1,\n         'şekilde': 2,\n         'geliyor': 1,\n         'üst': 1,\n         'mankende': 1,\n         'oldugu': 1,\n         'cok': 7,\n         'düz': 1,\n         'yarım': 1,\n         'bunu': 1,\n         'bekleyerek': 1,\n         'üzülmeyin': 1,\n         'sonrasında': 1,\n         'üzerime': 1,\n         'oturdu': 1,\n         'malesef': 2,\n         'giyen': 1,\n         'arkadasima': 1,\n         'hepsini': 1,\n         'ona': 1,\n         '4': 1,\n         'siparis': 1,\n         'vermiştim': 1,\n         'sonuc': 1,\n         'görseldekinin': 1,\n         'hiçbir': 1,\n         'farkı': 1,\n         'bedenime': 1,\n         'siz': 1,\n         'bence': 1,\n         'şey': 1,\n         'üründe': 1,\n         'fazla': 1,\n         'çıkmış': 1,\n         'ip': 1,\n         'vardı': 1,\n         'özenli': 1,\n         'olabilirdi': 1,\n         'diye': 2,\n         'fiyatına': 2,\n         'genel': 1,\n         'guzeldi': 1,\n         'beyendim': 1,\n         'bedeni': 2,\n         'falanda': 1,\n         'tamdı': 1,\n         'falan': 1,\n         'alınmalı': 1,\n         'harika': 1,\n         'kotu': 1,\n         'almaniza': 1,\n         'değmez': 1,\n         'üstü': 1,\n         'altını': 1,\n         'pek': 1,\n         'inanılmaz': 1,\n         'normalde': 2,\n         'giyiyorum': 1,\n         'hissetmiyorum': 1,\n         'kullanabilirim': 1,\n         'alsaydım': 1,\n         'iyiydi': 1,\n         'gerçi': 1,\n         'etmiştim': 1,\n         'benini': 1,\n         'belirtselerdi': 1,\n         'dışında': 1,\n         'hatta': 1,\n         'rengini': 1})"
     },
     "execution_count": 89,
     "metadata": {},
     "output_type": "execute_result"
    }
   ],
   "source": [
    "from collections import Counter\n",
    "counts = Counter(words)\n",
    "counts"
   ],
   "metadata": {
    "collapsed": false
   }
  },
  {
   "cell_type": "code",
   "execution_count": 91,
   "outputs": [
    {
     "name": "stdout",
     "output_type": "stream",
     "text": [
      "[[1. 0. 0. ... 0. 0. 0.]\n",
      " [0. 1. 0. ... 0. 0. 0.]\n",
      " [0. 0. 1. ... 0. 0. 0.]\n",
      " ...\n",
      " [0. 0. 0. ... 1. 0. 0.]\n",
      " [0. 0. 0. ... 0. 1. 0.]\n",
      " [0. 0. 0. ... 0. 0. 1.]]\n"
     ]
    }
   ],
   "source": [
    "import numpy as np\n",
    "from scipy.sparse import dok_matrix\n",
    "\n",
    "n_words = len(words)\n",
    "\n",
    "sparse_matrix = dok_matrix((n_words, n_words))\n",
    "\n",
    "# Populate the matrix with the words as the labels for the rows and columns\n",
    "for i, word_i in enumerate(words):\n",
    "    for j, word_j in enumerate(words):\n",
    "        if word_i == word_j:\n",
    "            sparse_matrix[i, j] = 1\n",
    "\n",
    "print(sparse_matrix.todense())"
   ],
   "metadata": {
    "collapsed": false
   }
  },
  {
   "cell_type": "code",
   "execution_count": null,
   "outputs": [],
   "source": [],
   "metadata": {
    "collapsed": false
   }
  }
 ],
 "metadata": {
  "kernelspec": {
   "display_name": "Python 3",
   "language": "python",
   "name": "python3"
  },
  "language_info": {
   "codemirror_mode": {
    "name": "ipython",
    "version": 2
   },
   "file_extension": ".py",
   "mimetype": "text/x-python",
   "name": "python",
   "nbconvert_exporter": "python",
   "pygments_lexer": "ipython2",
   "version": "2.7.6"
  }
 },
 "nbformat": 4,
 "nbformat_minor": 0
}
