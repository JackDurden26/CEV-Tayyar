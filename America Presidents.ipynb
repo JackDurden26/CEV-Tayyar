{
 "cells": [
  {
   "cell_type": "code",
   "execution_count": null,
   "outputs": [],
   "source": [
    "import pandas as pd\n",
    "import numpy as np\n",
    "data = pd.read_csv(\"president_heights.csv\")\n",
    "\n",
    "heights= np.array(data['height(cm)'])\n",
    "data.head()"
   ],
   "metadata": {
    "collapsed": false,
    "pycharm": {
     "is_executing": true
    }
   }
  },
  {
   "cell_type": "code",
   "execution_count": null,
   "outputs": [],
   "source": [
    "print(\"Amerika'nın bugüne kadarki en uzun başkanı:  \",data[\"name\"][heights.argmax()])\n",
    "print(\"Boyu (cm cinsinden):  \",heights.max())\n",
    "print(\"Kaçıncı başkan:  \", data[\"order\"][heights.argmax()])\n"
   ],
   "metadata": {
    "collapsed": false,
    "pycharm": {
     "is_executing": true
    }
   }
  },
  {
   "cell_type": "code",
   "execution_count": null,
   "outputs": [],
   "source": [
    "print(\"Amerika'nın bugüne kadarki en uzun başkanı:  \",data[\"name\"][heights.argmin()])\n",
    "print(\"Boyu (cm cinsinden):  \",heights.min())\n",
    "print(\"Kaçıncı başkan:  \", data[\"ordr\"][heights.argmin()])\n"
   ],
   "metadata": {
    "collapsed": false
   }
  }
 ],
 "metadata": {
  "kernelspec": {
   "display_name": "Python 3",
   "language": "python",
   "name": "python3"
  },
  "language_info": {
   "codemirror_mode": {
    "name": "ipython",
    "version": 2
   },
   "file_extension": ".py",
   "mimetype": "text/x-python",
   "name": "python",
   "nbconvert_exporter": "python",
   "pygments_lexer": "ipython2",
   "version": "2.7.6"
  }
 },
 "nbformat": 4,
 "nbformat_minor": 0
}
