{
 "cells": [
  {
   "cell_type": "code",
   "execution_count": 1,
   "metadata": {
    "collapsed": true
   },
   "outputs": [
    {
     "ename": "SyntaxError",
     "evalue": "invalid decimal literal (1210402684.py, line 6)",
     "output_type": "error",
     "traceback": [
      "\u001B[1;36m  Cell \u001B[1;32mIn [1], line 6\u001B[1;36m\u001B[0m\n\u001B[1;33m    Gelin bunun nasıl yapıldığını açıklayalım. 14.kattan yumurtamızı atalım, ilk atış hakkını kullanmış olduk. (13 Hamle Kaldı) Kırılırsa 1. kattan 13. kata kadar tek tek deniyoruz. Kırılmazsa 14 + 13 yapıp 27. kattan yumurtamızı atıyoruz. (12 Hamle Kaldı) Kırılırsa 15. kattan 26. kata kadar tek tek deniyoruz. Kırılmazsa 14+13+12 yapıp 39. kattan yumurtamızı atıyoruz. (11 Hamle Kaldı) Kırılırsa 28. kattan 38. kata kadar tek tek deniyoruz. Kırılmazsa aynı şekilde hamle sayımıza bağlı kalarak denemeler yapıyoruz. 14+13+12+11+...+4 = 99 yapıyor, Kırılırsa 96. kattan 98. kata kadar tek tek deniyoruz. Kırılmazsa ilk 99 katta kırılmadığı için 100. kattan attığımız zaman kırılacaktır.\u001B[0m\n\u001B[1;37m                                                 ^\u001B[0m\n\u001B[1;31mSyntaxError\u001B[0m\u001B[1;31m:\u001B[0m invalid decimal literal\n"
     ]
    }
   ],
   "source": [
    "100 katlı bina var 2 adet yumurta ile sadece tek sefer kullanmak şartı en az kaç defada yumurtanın kırılmadığı katı bulabiliriz?\n",
    "\n",
    "\n",
    "Birçok çözüm yöntemi ile çok kısa hamlelerde bulabilme imkanımız olmasına rağmen çok uzun süren bir süreçte çok fazla deneme ile de bulma ihtimalimiz bulunuyor. Ancak 100 katlı bir binada 14 hamlede (Atışta) nerede kırıldığı bulunabiliyor.\n",
    "\n",
    "Gelin bunun nasıl yapıldığını açıklayalım. 14.kattan yumurtamızı atalım, ilk atış hakkını kullanmış olduk. (13 Hamle Kaldı) Kırılırsa 1. kattan 13. kata kadar tek tek deniyoruz. Kırılmazsa 14 + 13 yapıp 27. kattan yumurtamızı atıyoruz. (12 Hamle Kaldı) Kırılırsa 15. kattan 26. kata kadar tek tek deniyoruz. Kırılmazsa 14+13+12 yapıp 39. kattan yumurtamızı atıyoruz. (11 Hamle Kaldı) Kırılırsa 28. kattan 38. kata kadar tek tek deniyoruz. Kırılmazsa aynı şekilde hamle sayımıza bağlı kalarak denemeler yapıyoruz. 14+13+12+11+...+4 = 99 yapıyor, Kırılırsa 96. kattan 98. kata kadar tek tek deniyoruz. Kırılmazsa ilk 99 katta kırılmadığı için 100. kattan attığımız zaman kırılacaktır.\n",
    "\n",
    "Matematiksel olarak bunu formül ile göstermemiz gerekir ise n : Binanın kat sayısı q : Yapılabilecek atış sayısı\n",
    "\n",
    "q + (q-1) + (q-2) + (q-3) + ... + 1 >= n\n",
    "\n",
    "veya\n",
    "\n",
    "q*(q+1)/2 >= n"
   ]
  },
  {
   "cell_type": "code",
   "execution_count": 1,
   "outputs": [
    {
     "ename": "SyntaxError",
     "evalue": "invalid syntax (765482865.py, line 1)",
     "output_type": "error",
     "traceback": [
      "\u001B[1;36m  Cell \u001B[1;32mIn [1], line 1\u001B[1;36m\u001B[0m\n\u001B[1;33m    2- Görüntü işleme aşamlarını sırası ile tarif ediniz.\u001B[0m\n\u001B[1;37m               ^\u001B[0m\n\u001B[1;31mSyntaxError\u001B[0m\u001B[1;31m:\u001B[0m invalid syntax\n"
     ]
    }
   ],
   "source": [
    "2- Görüntü işleme aşamlarını sırası ile tarif ediniz.\n",
    "\n",
    "Elde Etme: Sayısal görüntü sayısal kamera ile elde edilir.\n",
    "\n",
    "Ön İşleme: Sayısal görüntüyü kullanmadan önce bazı ön işlemlerden geçirmek gerekir. Bunlar; görüntü iyileştirme, görüntü onarma, görüntü sıkıştırma işlemleridir. Görüntünün elde edilmesi ve ön işleme tabi tutulması düşük seviyeli görüntü işleme olarak adlandırılır.\n",
    "\n",
    "Bölümleme: Bu işlemin alt başlıkları; bölütleme, parçalara ayırma, segmentasyon olarak adlandırılır. Bu kısım görüntü işlemenin daha zor kısmıdır. Bu kısımda amaç görüntü içerisindeki nesne ve alanların değişik özelliklerinin tespit edilip birbirinden ayrılmasıdır.\n",
    "\n",
    "Çıkarım: Elde edilen ham bilgilerin, istenilen farklı özelliklerin, ayrıntıların ön plana çıkarılmasıdır.\n",
    "\n",
    "Yorumlama: Bu son kısımda artık bazı yapay zeka algoritmaları ile işlenen görüntü içerisindeki farklı nesnelerin ve alanların sınıflara ayrılması ve etiketlendirilmesi yapılır."
   ],
   "metadata": {
    "collapsed": false
   }
  },
  {
   "cell_type": "code",
   "execution_count": 3,
   "outputs": [
    {
     "ename": "SyntaxError",
     "evalue": "unterminated string literal (detected at line 5) (3371472913.py, line 5)",
     "output_type": "error",
     "traceback": [
      "\u001B[1;36m  Cell \u001B[1;32mIn [3], line 5\u001B[1;36m\u001B[0m\n\u001B[1;33m    Kernel'in boyutları inputun üzerinden geçerken tarama alaının belirleyerek ne kadar büyürse sonunda çıkacak Feature Matrisin boyutlarını küçültecektir.\u001B[0m\n\u001B[1;37m          ^\u001B[0m\n\u001B[1;31mSyntaxError\u001B[0m\u001B[1;31m:\u001B[0m unterminated string literal (detected at line 5)\n"
     ]
    }
   ],
   "source": [
    "3 - Feature map veya bir sonraki layerın boyutlarını belirleyen özellikler nelerdir. Açıklayınız.\n",
    "\n",
    "Feature Mapin ve Sonraki Layer'ın boyutlarını İnputun boyutlarıyla birlikte Kernel'ın/filtrenin boyutları,Pooling ve/veya Padding yapılması, Stride(adım boyu)/Filtrenin hareket boyu ve dept yani uygulanan filtrenin sayısı sonunda çıkıcak olan Feature Mapin ve sonraki Layerin boyutunu belirleyecektir.\n",
    "\n",
    "Kernel'in boyutları inputun üzerinden geçerken tarama alaının belirleyerek ne kadar büyürse sonunda çıkacak Feature Matrisin boyutlarını küçültecektir.\n",
    "\n",
    "Pooling yapılması matrisin boyutunu küçülteceğinden Feature Mapin ve Layerin Boyutunu etkileyecektir.\n",
    "\n",
    "Padding ise Kernelın üzerinde hareket edilecek alanı arttıracağından ve bu arttırılmış alanı 0'lar ile oluşturacağından üzerinden geçilen veri miktarını azaltarak filtering sonucu oluşacak Feature Matrisin boyutunun daha az küçülmesine ve hatta aynı kalmasına vesile olacaktır.\n",
    "\n",
    "Stride ise Kernelın Input/üzerinde filtering uygulanan matris üzerinde hareket adımı olduğundan arttıkça oluşacak feature matrisin boyutu küçülecektir.\n",
    "\n",
    "Depth uygulanacak filtre sayısı ise toplamda nxn boyutunda oluşacak feature matris sayısını arttıracaktır."
   ],
   "metadata": {
    "collapsed": false
   }
  },
  {
   "cell_type": "code",
   "execution_count": 4,
   "outputs": [
    {
     "ename": "SyntaxError",
     "evalue": "invalid syntax (974774509.py, line 3)",
     "output_type": "error",
     "traceback": [
      "\u001B[1;36m  Cell \u001B[1;32mIn [4], line 3\u001B[1;36m\u001B[0m\n\u001B[1;33m    Softmax Fonksiyonu: Çoklu sınıflandırma problemleri için kullanılan bu fonksiyon, verilen her bir girdinin bir sınıfa ait olma olasılığını gösteren [0,1] arası çıktılar üretmektedir.\u001B[0m\n\u001B[1;37m            ^\u001B[0m\n\u001B[1;31mSyntaxError\u001B[0m\u001B[1;31m:\u001B[0m invalid syntax\n"
     ]
    }
   ],
   "source": [
    "4- Softmax nedir? Ne işe yarar?\n",
    "\n",
    "Softmax Fonksiyonu: Çoklu sınıflandırma problemleri için kullanılan bu fonksiyon, verilen her bir girdinin bir sınıfa ait olma olasılığını gösteren [0,1] arası çıktılar üretmektedir."
   ],
   "metadata": {
    "collapsed": false
   }
  },
  {
   "cell_type": "code",
   "execution_count": 5,
   "outputs": [
    {
     "ename": "SyntaxError",
     "evalue": "invalid syntax (178228781.py, line 1)",
     "output_type": "error",
     "traceback": [
      "\u001B[1;36m  Cell \u001B[1;32mIn [5], line 1\u001B[1;36m\u001B[0m\n\u001B[1;33m    5- Aktivasyon fonskiyonlarının kullanım amaçları nedir? 3 adet örnek veriniz. Amaçlarını açıklayınız. Şekillerini çiziniz.\u001B[0m\n\u001B[1;37m                  ^\u001B[0m\n\u001B[1;31mSyntaxError\u001B[0m\u001B[1;31m:\u001B[0m invalid syntax\n"
     ]
    }
   ],
   "source": [
    "5- Aktivasyon fonskiyonlarının kullanım amaçları nedir? 3 adet örnek veriniz. Amaçlarını açıklayınız. Şekillerini çiziniz.\n",
    "\n",
    "Aktivasyon fonksiyonları sinir ağlarında kilit bir rol oynar, bu nedenle daha iyi performans elde etmek için avantajlarını ve dezavantajlarını anlamak esastır.Yapay sinir ağlarına doğrusal olmayan gerçek dünya özelliklerini tanıtmak için aktivasyon fonksiyonuna ihtiyaç duyarız. Temel olarak basit bir yapay sinir ağında x girdiler, w ağırlıklar olarak tanımlanır ve ağın çıkışına aktarılan değere f(x) yani aktivasyon işlemi uygularız. Daha sonra bu, nihai çıkış ya da bir başka katmanın girişi olacaktır.\n",
    "\n",
    "- ReLU (Rectified Linear Unit) Fonksiyonu\n",
    "- Doğrusal (Linear) Fonksiyon\n",
    "- Sigmoid Fonksiyonu"
   ],
   "metadata": {
    "collapsed": false
   }
  },
  {
   "cell_type": "code",
   "execution_count": 6,
   "outputs": [
    {
     "ename": "SyntaxError",
     "evalue": "cannot assign to expression here. Maybe you meant '==' instead of '='? (4284925516.py, line 3)",
     "output_type": "error",
     "traceback": [
      "\u001B[1;36m  Cell \u001B[1;32mIn [6], line 3\u001B[1;36m\u001B[0m\n\u001B[1;33m    ((32-2)/1)+1=31\u001B[0m\n\u001B[1;37m    ^\u001B[0m\n\u001B[1;31mSyntaxError\u001B[0m\u001B[1;31m:\u001B[0m cannot assign to expression here. Maybe you meant '==' instead of '='?\n"
     ]
    }
   ],
   "source": [
    "6-32,32 lik image oldğunu düşünelim 2,2 like Max pooling sonucunda çıktı hangi boyutta olur?\n",
    "\n",
    "((32-2)/1)+1=31\n",
    "\n",
    "Yukarıdaki soruya ek olarak eğer bu işlemler esnasında stride=2 olursa çıktı boyutu nasıl olur?\n",
    "\n",
    "((32-2)/2)+1=16"
   ],
   "metadata": {
    "collapsed": false
   }
  },
  {
   "cell_type": "code",
   "execution_count": 7,
   "outputs": [
    {
     "ename": "SyntaxError",
     "evalue": "invalid syntax (378545694.py, line 3)",
     "output_type": "error",
     "traceback": [
      "\u001B[1;36m  Cell \u001B[1;32mIn [7], line 3\u001B[1;36m\u001B[0m\n\u001B[1;33m    Dropout tekniği genelde tam bağlı katmanlarda (fully-connected layer) sonra kullanılır. Dropout kullanılarak fully-connected layerlardaki bağlar koparılır. Böylece node'lar birbiri hakkında daha az bilgiye sahip olur ve bunun doğal sonucu olarak node'lar birbirlerinin ağırlık değişimlerinden daha az etkilenirler.\u001B[0m\n\u001B[1;37m            ^\u001B[0m\n\u001B[1;31mSyntaxError\u001B[0m\u001B[1;31m:\u001B[0m invalid syntax\n"
     ]
    }
   ],
   "source": [
    "7- Droupout'un amacı nedir?\n",
    "\n",
    "Dropout tekniği genelde tam bağlı katmanlarda (fully-connected layer) sonra kullanılır. Dropout kullanılarak fully-connected layerlardaki bağlar koparılır. Böylece node'lar birbiri hakkında daha az bilgiye sahip olur ve bunun doğal sonucu olarak node'lar birbirlerinin ağırlık değişimlerinden daha az etkilenirler."
   ],
   "metadata": {
    "collapsed": false
   }
  },
  {
   "cell_type": "code",
   "execution_count": 8,
   "outputs": [
    {
     "ename": "SyntaxError",
     "evalue": "invalid syntax (362623418.py, line 1)",
     "output_type": "error",
     "traceback": [
      "\u001B[1;36m  Cell \u001B[1;32mIn [8], line 1\u001B[1;36m\u001B[0m\n\u001B[1;33m    8- Görüntü işleme yöntemleri için kullanılan 3 adet framework belirtiniz.\u001B[0m\n\u001B[1;37m               ^\u001B[0m\n\u001B[1;31mSyntaxError\u001B[0m\u001B[1;31m:\u001B[0m invalid syntax\n"
     ]
    }
   ],
   "source": [
    "8- Görüntü işleme yöntemleri için kullanılan 3 adet framework belirtiniz.\n",
    "\n",
    "OpenCV,EmguCV,Tensorflow"
   ],
   "metadata": {
    "collapsed": false
   }
  },
  {
   "cell_type": "code",
   "execution_count": 9,
   "outputs": [
    {
     "ename": "SyntaxError",
     "evalue": "invalid syntax (677797100.py, line 3)",
     "output_type": "error",
     "traceback": [
      "\u001B[1;36m  Cell \u001B[1;32mIn [9], line 3\u001B[1;36m\u001B[0m\n\u001B[1;33m    ANN ile somut veri noktaları sağlanmalıdır. Örneğin, köpekler ve kediler arasında ayrım yapmaya çalıştığımız bir modelde, burunların genişliği ve kulakların uzunluğu açıkça veri noktaları olarak sağlanmalıdır. CNN kullanırken, bu uzamsal özellikler görüntü girişinden çıkarılır. Bu, binlerce özelliğin çıkarılması gerektiğinde cnn'yi ideal kılar. CNN, her bir özelliği ölçmek zorunda kalmak yerine, bu özellikleri kendi başına toplar. ANN kullanarak, görüntü sınıflandırma problemleri zorlaşır çünkü 2 boyutlu görüntülerin 1 boyutlu vektörlere dönüştürülmesi gerekir. Bu, eğitilebilir parametrelerin sayısını katlanarak artırır. Eğitilebilir parametrelerin arttırılması, depolama ve işleme kapasitesini gerektirir. Başka bir deyişle, pahalı olurdu. Öncekilere kıyasla cnn'in en büyük avantajı, önemli özellikleri herhangi bir insan gözetimi olmadan otomatik olarak algılamasıdır. Bu nedenle CNN, bilgisayarla görme ve görüntü sınıflandırma sorunlarına ideal bir çözüm olacaktır.\u001B[0m\n\u001B[1;37m        ^\u001B[0m\n\u001B[1;31mSyntaxError\u001B[0m\u001B[1;31m:\u001B[0m invalid syntax\n"
     ]
    }
   ],
   "source": [
    "9 - Niçin imajlar için ANN yerine CNN kullanıyoruz?\n",
    "\n",
    "ANN ile somut veri noktaları sağlanmalıdır. Örneğin, köpekler ve kediler arasında ayrım yapmaya çalıştığımız bir modelde, burunların genişliği ve kulakların uzunluğu açıkça veri noktaları olarak sağlanmalıdır. CNN kullanırken, bu uzamsal özellikler görüntü girişinden çıkarılır. Bu, binlerce özelliğin çıkarılması gerektiğinde cnn'yi ideal kılar. CNN, her bir özelliği ölçmek zorunda kalmak yerine, bu özellikleri kendi başına toplar. ANN kullanarak, görüntü sınıflandırma problemleri zorlaşır çünkü 2 boyutlu görüntülerin 1 boyutlu vektörlere dönüştürülmesi gerekir. Bu, eğitilebilir parametrelerin sayısını katlanarak artırır. Eğitilebilir parametrelerin arttırılması, depolama ve işleme kapasitesini gerektirir. Başka bir deyişle, pahalı olurdu. Öncekilere kıyasla cnn'in en büyük avantajı, önemli özellikleri herhangi bir insan gözetimi olmadan otomatik olarak algılamasıdır. Bu nedenle CNN, bilgisayarla görme ve görüntü sınıflandırma sorunlarına ideal bir çözüm olacaktır."
   ],
   "metadata": {
    "collapsed": false
   }
  },
  {
   "cell_type": "code",
   "execution_count": 10,
   "outputs": [
    {
     "ename": "SyntaxError",
     "evalue": "invalid character '’' (U+2019) (1928161116.py, line 3)",
     "output_type": "error",
     "traceback": [
      "\u001B[1;36m  Cell \u001B[1;32mIn [10], line 3\u001B[1;36m\u001B[0m\n\u001B[1;33m    Mümkündür. Pooling Layer, CovNet’teki ardışık convolutional katmanları arasına sıklıkla eklenen bir katmandır. Bu katmanın görevi, gösterimin kayma boyutunu ve ağ içindeki parametreleri ve hesaplama sayısını azaltmak içindir. Bu sayede ağdaki uyumsuzluk kontrol edilmiş olur. Birçok Pooling işlemleri vardır, fakat en popüleri max pooling’dir. Yine aynı prensipte çalışan average pooling, ve L2-norm pooling algoritmalarıda vardır.\u001B[0m\n\u001B[1;37m                                    ^\u001B[0m\n\u001B[1;31mSyntaxError\u001B[0m\u001B[1;31m:\u001B[0m invalid character '’' (U+2019)\n"
     ]
    }
   ],
   "source": [
    "10 - CNN ağları için dimension reduction mümkünmüdür? Mümkünse nasıl ve hangi katmanlarda uygulanabilir?\n",
    "\n",
    "Mümkündür. Pooling Layer, CovNet’teki ardışık convolutional katmanları arasına sıklıkla eklenen bir katmandır. Bu katmanın görevi, gösterimin kayma boyutunu ve ağ içindeki parametreleri ve hesaplama sayısını azaltmak içindir. Bu sayede ağdaki uyumsuzluk kontrol edilmiş olur. Birçok Pooling işlemleri vardır, fakat en popüleri max pooling’dir. Yine aynı prensipte çalışan average pooling, ve L2-norm pooling algoritmalarıda vardır."
   ],
   "metadata": {
    "collapsed": false
   }
  },
  {
   "cell_type": "code",
   "execution_count": null,
   "outputs": [],
   "source": [
    "11 - 5,5 bir imaja 3,3 lük bir filtre uygulandığında stride=1 olacak şekilde o-elde edilen outputun boyutunun 5,5 olması niçin ne yapabiliriz?\n",
    "\n",
    "(((5-3)+2*X)/1)+1=5 olması için X'in yani Padding katmanının X=1 kalınlığında olması gerekir."
   ],
   "metadata": {
    "collapsed": false,
    "pycharm": {
     "is_executing": true
    }
   }
  }
 ],
 "metadata": {
  "kernelspec": {
   "display_name": "Python 3",
   "language": "python",
   "name": "python3"
  },
  "language_info": {
   "codemirror_mode": {
    "name": "ipython",
    "version": 2
   },
   "file_extension": ".py",
   "mimetype": "text/x-python",
   "name": "python",
   "nbconvert_exporter": "python",
   "pygments_lexer": "ipython2",
   "version": "2.7.6"
  }
 },
 "nbformat": 4,
 "nbformat_minor": 0
}
