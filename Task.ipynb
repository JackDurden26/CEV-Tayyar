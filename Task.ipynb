{
 "cells": [
  {
   "cell_type": "code",
   "execution_count": null,
   "outputs": [],
   "source": [
    "1)Json-Dictionary arasındaki fark nedir?\n",
    "\n",
    "JSON bir nesne notasyonu;.  verilerin ve türlerinin serileştirilmesi için bir kodlamadır. Dictioanry \"Sözlük\" (Python'da), anahtarları değerlerle eşleyen yerleşik bir veri türüdür. Çoğu JSON'un içeriği sözlükler veya listeler içerir ve sıklıkla bunlar veya iç içedir."
   ],
   "metadata": {
    "collapsed": false,
    "pycharm": {
     "is_executing": true
    }
   }
  },
  {
   "cell_type": "code",
   "execution_count": null,
   "outputs": [],
   "source": [
    "1.1) Dumps ne işe yarar?\n",
    "\n",
    "Bir Python veri türü, json.dumps() metodu ile JSON'a dönüştürülebilir."
   ],
   "metadata": {
    "collapsed": false
   }
  },
  {
   "cell_type": "code",
   "execution_count": null,
   "outputs": [],
   "source": [
    "1.2) Neden encode kullanılır?\n",
    "\n",
    "Dışarıdan girilen karakterleri de, bilgisayarların anlayabilmesi için tam aksi istikamette sayıya, oradan da elektrik sinyallerine çevirebiliriz. İşte bu dönüştürme işlemine karakter kodlama (character encoding) adı verilir."
   ],
   "metadata": {
    "collapsed": false
   }
  },
  {
   "cell_type": "code",
   "execution_count": null,
   "outputs": [],
   "source": [
    "2) json dumps nedir?\n",
    "\n",
    "dumps fonksiyonu str tipinde bir değer döndürürken dump fonksiyonu hiçbir değer döndürmez."
   ],
   "metadata": {
    "collapsed": false
   }
  },
  {
   "cell_type": "code",
   "execution_count": null,
   "outputs": [],
   "source": [
    "2.1) json load / loads nedir?\n",
    "\n",
    "load fonksiyonu sadece dosyadaki JSON verilerini Python verisine çevirirken loads fonksiyonu veriyi parametre olarak alıyor. dump ve dumps’da olduğu gibi parametreleri tamamen aynı."
   ],
   "metadata": {
    "collapsed": false
   }
  },
  {
   "cell_type": "code",
   "execution_count": null,
   "outputs": [],
   "source": [
    "3) Dockera girdikten sonra spesific bir container hangi networkta çalışır?\n",
    "\n",
    "Local network üzerinden çalışır."
   ],
   "metadata": {
    "collapsed": false
   }
  },
  {
   "cell_type": "code",
   "execution_count": null,
   "outputs": [],
   "source": [
    "3.2) default ip nasıl bulunur?\n",
    "\n",
    "Terminal içerisinde  Ipconfig/all yazarak, local ethernet kısmında bulabiliriz.\n",
    "docker inspect -f “{{range.NetworkSettings.Networks}}{{.IPAddress}}{{end}}” ContainerID"
   ],
   "metadata": {
    "collapsed": false
   }
  },
  {
   "cell_type": "code",
   "execution_count": null,
   "outputs": [],
   "source": [
    "4) Kod json.dumps değil de json.dump ile deneyerek yazılacak.\n",
    "\n",
    "dump fonksiyonu çıktıyı  içine aktarır yani size al bu istediğin JSON çıktısı demez. Bunu dumps fonksiyonu yapar. dumps fonksiyonu str tipinde bir değer döndürürken dump fonksiyonu hiçbir değer döndürmez."
   ],
   "metadata": {
    "collapsed": false,
    "pycharm": {
     "is_executing": true
    }
   }
  },
  {
   "cell_type": "code",
   "execution_count": null,
   "outputs": [],
   "source": [
    "5) Neden UTF-8 kullanıyoruz?\n",
    "\n",
    "HTML sayfası satik halde sadece bir kodlamada olabilir. Bir belgenin farklı bölümlerini farklı kodlamalarda kodlayamayız. UTF-8 gibi Unicode tabanlı bir kodlama birçok dili destekleyebilir ve bu dillerin herhangi bir karışımındaki sayfaları ve formları barındırabilir."
   ],
   "metadata": {
    "collapsed": false
   }
  },
  {
   "cell_type": "code",
   "execution_count": null,
   "outputs": [],
   "source": [
    "6) 192.168.0.1 nedir ve 127.00.01 arasındaki fark nedir?\n",
    "\n",
    "IPv4, 4 milyar adres üretiyor ve geliştiriciler bu adreslerin yeterli olduğunu düşünüyorlar ancak yanılmışlar. IPv6, yeni nesil IP adresleridir. IPv4 ve IPv6 arasındaki temel fark, IP adreslerinin adres boyutudur. IPv4, 32 bitlik bir adrestir, IPv6 ise 128 bitlik onaltılık bir adrestir. IPv6, geniş bir adres alanı sağlar ve IPv4'e kıyasla basit bir başlık içerir.\n"
   ],
   "metadata": {
    "collapsed": false
   }
  }
 ],
 "metadata": {
  "kernelspec": {
   "display_name": "Python 3",
   "language": "python",
   "name": "python3"
  },
  "language_info": {
   "codemirror_mode": {
    "name": "ipython",
    "version": 2
   },
   "file_extension": ".py",
   "mimetype": "text/x-python",
   "name": "python",
   "nbconvert_exporter": "python",
   "pygments_lexer": "ipython2",
   "version": "2.7.6"
  }
 },
 "nbformat": 4,
 "nbformat_minor": 0
}
