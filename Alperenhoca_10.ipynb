{
  "nbformat": 4,
  "nbformat_minor": 0,
  "metadata": {
    "colab": {
      "provenance": []
    },
    "kernelspec": {
      "name": "python3",
      "display_name": "Python 3"
    },
    "language_info": {
      "name": "python"
    },
    "accelerator": "GPU",
    "gpuClass": "standard"
  },
  "cells": [
    {
      "cell_type": "code",
      "execution_count": 2,
      "metadata": {
        "colab": {
          "base_uri": "https://localhost:8080/"
        },
        "id": "ixPj8qS-Ls-z",
        "outputId": "16b846f7-4ffe-41b4-cc1f-112c7b8a27d1"
      },
      "outputs": [
        {
          "output_type": "stream",
          "name": "stdout",
          "text": [
            "Downloading data from https://storage.googleapis.com/tensorflow/tf-keras-datasets/mnist.npz\n",
            "11490434/11490434 [==============================] - 1s 0us/step\n"
          ]
        },
        {
          "output_type": "execute_result",
          "data": {
            "text/plain": [
              "(10000, 28, 28)"
            ]
          },
          "metadata": {},
          "execution_count": 2
        }
      ],
      "source": [
        "from keras.datasets import mnist\n",
        "(x_train,y_train),(x_test,y_test) = mnist.load_data()\n",
        "x_test.shape"
      ]
    },
    {
      "cell_type": "code",
      "source": [
        "from keras.utils.data_utils import random\n",
        "import cv2\n",
        "import numpy as np\n",
        "from google.colab.patches import cv2_imshow\n",
        "\n",
        "# 6 tane imaj \n",
        "# random seçicez\n",
        "# göstermesi\n",
        "\n",
        "for i in range(0,6):\n",
        "\n",
        "  rand_num = random.randint(0,len(x_train))\n",
        "  img = x_train[rand_num]\n",
        "  cv2_imshow(img)\n"
      ],
      "metadata": {
        "colab": {
          "base_uri": "https://localhost:8080/",
          "height": 185
        },
        "id": "s7XWBxTSLxbd",
        "outputId": "51785ceb-d401-46ef-b65d-0cade123ffc9"
      },
      "execution_count": 3,
      "outputs": [
        {
          "output_type": "display_data",
          "data": {
            "text/plain": [
              "<PIL.Image.Image image mode=L size=28x28 at 0x7F906054A650>"
            ],
            "image/png": "[encoded data removed]"
          },
          "metadata": {}
        },
        {
          "output_type": "display_data",
          "data": {
            "text/plain": [
              "<PIL.Image.Image image mode=L size=28x28 at 0x7F906055C150>"
            ],
            "image/png": "[encoded data removed]"
          },
          "metadata": {}
        },
        {
          "output_type": "display_data",
          "data": {
            "text/plain": [
              "<PIL.Image.Image image mode=L size=28x28 at 0x7F906054AFD0>"
            ],
            "image/png": "[encoded data removed]"
          },
          "metadata": {}
        },
        {
          "output_type": "display_data",
          "data": {
            "text/plain": [
              "<PIL.Image.Image image mode=L size=28x28 at 0x7F9053011DD0>"
            ],
            "image/png": "[encoded data removed]"
          },
          "metadata": {}
        },
        {
          "output_type": "display_data",
          "data": {
            "text/plain": [
              "<PIL.Image.Image image mode=L size=28x28 at 0x7F90E34B3C50>"
            ],
            "image/png": "[encoded data removed]"
          },
          "metadata": {}
        },
        {
          "output_type": "display_data",
          "data": {
            "text/plain": [
              "<PIL.Image.Image image mode=L size=28x28 at 0x7F9053011E10>"
            ],
            "image/png": "[encoded data removed]"
          },
          "metadata": {}
        }
      ]
    },
    {
      "cell_type": "code",
      "source": [
        "img_rows=x_train[0].shape[0]\n",
        "img_cols=x_train[1].shape[1]\n",
        "\n",
        "x_train=x_train.reshape(len(x_train),img_rows,img_cols,1)\n",
        "x_test=x_test.reshape(len(x_test),img_rows,img_cols,1)\n",
        "\n",
        "x_train=x_train.astype(\"float32\")\n",
        "x_test=x_test.astype(\"float32\")\n",
        "\n",
        "x_train /= 255\n",
        "x_test /= 255\n",
        "\n",
        "y_train[0:5]"
      ],
      "metadata": {
        "colab": {
          "base_uri": "https://localhost:8080/"
        },
        "id": "YRnvnROJLz3E",
        "outputId": "fb8ef936-a6f1-477d-9d7b-515c4f67918c"
      },
      "execution_count": 4,
      "outputs": [
        {
          "output_type": "execute_result",
          "data": {
            "text/plain": [
              "array([5, 0, 4, 1, 9], dtype=uint8)"
            ]
          },
          "metadata": {},
          "execution_count": 4
        }
      ]
    },
    {
      "cell_type": "code",
      "source": [
        "from keras.utils import np_utils\n",
        "\n",
        "y_train=np_utils.to_categorical(y_train)\n",
        "y_test=np_utils.to_categorical(y_test)\n",
        "\n",
        "y_test\n",
        "num_classes = y_test.shape[1]\n",
        "\n",
        "num_classes"
      ],
      "metadata": {
        "colab": {
          "base_uri": "https://localhost:8080/"
        },
        "id": "6IYsBy4XL7tK",
        "outputId": "19079a5a-6e4e-4dcb-f162-fd96ff5f1b00"
      },
      "execution_count": 5,
      "outputs": [
        {
          "output_type": "execute_result",
          "data": {
            "text/plain": [
              "10"
            ]
          },
          "metadata": {},
          "execution_count": 5
        }
      ]
    },
    {
      "cell_type": "code",
      "source": [
        "import keras\n",
        "from keras.models import Sequential\n",
        "from keras.layers import Dense, Dropout, Flatten\n",
        "from keras.layers import Conv2D,MaxPooling2D\n",
        "from keras.optimizers import SGD"
      ],
      "metadata": {
        "id": "34JYijMVMAw6"
      },
      "execution_count": 6,
      "outputs": []
    },
    {
      "cell_type": "code",
      "source": [
        "model = Sequential()\n",
        "model.add(Conv2D(32, kernel_size=(3, 3),activation='relu',input_shape=(28,28,1)))\n",
        "model.add(Conv2D(64, (3, 3), activation='relu'))\n",
        "model.add(MaxPooling2D(pool_size=(2, 2)))\n",
        "model.add(Conv2D(64, (3, 3), activation='relu'))\n",
        "model.add(Flatten())\n",
        "model.add(Dense(256, activation='relu'))\n",
        "model.add(Dropout(0.25))\n",
        "model.add(Dense(128, activation='relu'))\n",
        "model.add(Dropout(0.3))\n",
        "model.add(Dense(10, activation='softmax'))\n",
        "\n",
        "model.compile(loss=keras.losses.categorical_crossentropy,optimizer=keras.optimizers.Adadelta(),metrics=['accuracy'])\n",
        "\n",
        "print(model.summary())"
      ],
      "metadata": {
        "colab": {
          "base_uri": "https://localhost:8080/"
        },
        "id": "qmECSZZmMA8E",
        "outputId": "d5e61f7c-cbef-4486-9241-e593def5b36d"
      },
      "execution_count": 7,
      "outputs": [
        {
          "output_type": "stream",
          "name": "stdout",
          "text": [
            "Model: \"sequential\"\n",
            "_________________________________________________________________\n",
            " Layer (type)                Output Shape              Param #   \n",
            "=================================================================\n",
            " conv2d (Conv2D)             (None, 26, 26, 32)        320       \n",
            "                                                                 \n",
            " conv2d_1 (Conv2D)           (None, 24, 24, 64)        18496     \n",
            "                                                                 \n",
            " max_pooling2d (MaxPooling2D  (None, 12, 12, 64)       0         \n",
            " )                                                               \n",
            "                                                                 \n",
            " conv2d_2 (Conv2D)           (None, 10, 10, 64)        36928     \n",
            "                                                                 \n",
            " flatten (Flatten)           (None, 6400)              0         \n",
            "                                                                 \n",
            " dense (Dense)               (None, 256)               1638656   \n",
            "                                                                 \n",
            " dropout (Dropout)           (None, 256)               0         \n",
            "                                                                 \n",
            " dense_1 (Dense)             (None, 128)               32896     \n",
            "                                                                 \n",
            " dropout_1 (Dropout)         (None, 128)               0         \n",
            "                                                                 \n",
            " dense_2 (Dense)             (None, 10)                1290      \n",
            "                                                                 \n",
            "=================================================================\n",
            "Total params: 1,728,586\n",
            "Trainable params: 1,728,586\n",
            "Non-trainable params: 0\n",
            "_________________________________________________________________\n",
            "None\n"
          ]
        }
      ]
    },
    {
      "cell_type": "code",
      "source": [
        "batch_size = [32,64,128,256,512,1024]\n",
        "epochs = 10\n",
        "\n",
        "for i in batch_size:\n",
        "    history = model.fit(x_train, y_train, batch_size=i,epochs=epochs,verbose=1,validation_data=(x_test, y_test))\n",
        "    score = model.evaluate(x_test, y_test, verbose=0)\n",
        "    print('Test loss:', score[0])\n",
        "    print('Test accuracy:', score[1])"
      ],
      "metadata": {
        "colab": {
          "base_uri": "https://localhost:8080/"
        },
        "id": "kW84fUz5MBEB",
        "outputId": "ea68abc9-b8a9-45b2-9a47-3ccbf403c5dd"
      },
      "execution_count": 10,
      "outputs": [
        {
          "output_type": "stream",
          "name": "stdout",
          "text": [
            "Epoch 1/10\n",
            "1875/1875 [==============================] - 10s 6ms/step - loss: 0.2863 - accuracy: 0.9158 - val_loss: 0.1757 - val_accuracy: 0.9473\n",
            "Epoch 2/10\n",
            "1875/1875 [==============================] - 10s 5ms/step - loss: 0.2792 - accuracy: 0.9180 - val_loss: 0.1730 - val_accuracy: 0.9484\n",
            "Epoch 3/10\n",
            "1875/1875 [==============================] - 10s 5ms/step - loss: 0.2745 - accuracy: 0.9186 - val_loss: 0.1696 - val_accuracy: 0.9491\n",
            "Epoch 4/10\n",
            "1875/1875 [==============================] - 10s 5ms/step - loss: 0.2701 - accuracy: 0.9195 - val_loss: 0.1671 - val_accuracy: 0.9500\n",
            "Epoch 5/10\n",
            "1875/1875 [==============================] - 10s 5ms/step - loss: 0.2646 - accuracy: 0.9220 - val_loss: 0.1638 - val_accuracy: 0.9515\n",
            "Epoch 6/10\n",
            "1875/1875 [==============================] - 10s 6ms/step - loss: 0.2574 - accuracy: 0.9238 - val_loss: 0.1613 - val_accuracy: 0.9518\n",
            "Epoch 7/10\n",
            "1875/1875 [==============================] - 10s 5ms/step - loss: 0.2563 - accuracy: 0.9240 - val_loss: 0.1592 - val_accuracy: 0.9528\n",
            "Epoch 8/10\n",
            "1875/1875 [==============================] - 10s 5ms/step - loss: 0.2559 - accuracy: 0.9250 - val_loss: 0.1574 - val_accuracy: 0.9533\n",
            "Epoch 9/10\n",
            "1875/1875 [==============================] - 9s 5ms/step - loss: 0.2475 - accuracy: 0.9266 - val_loss: 0.1550 - val_accuracy: 0.9541\n",
            "Epoch 10/10\n",
            "1875/1875 [==============================] - 9s 5ms/step - loss: 0.2481 - accuracy: 0.9276 - val_loss: 0.1523 - val_accuracy: 0.9553\n",
            "Test loss: 0.1523207575082779\n",
            "Test accuracy: 0.955299973487854\n",
            "Epoch 1/10\n",
            "938/938 [==============================] - 7s 8ms/step - loss: 0.2451 - accuracy: 0.9273 - val_loss: 0.1510 - val_accuracy: 0.9555\n",
            "Epoch 2/10\n",
            "938/938 [==============================] - 7s 7ms/step - loss: 0.2394 - accuracy: 0.9293 - val_loss: 0.1492 - val_accuracy: 0.9558\n",
            "Epoch 3/10\n",
            "938/938 [==============================] - 6s 7ms/step - loss: 0.2386 - accuracy: 0.9291 - val_loss: 0.1484 - val_accuracy: 0.9559\n",
            "Epoch 4/10\n",
            "938/938 [==============================] - 7s 7ms/step - loss: 0.2350 - accuracy: 0.9306 - val_loss: 0.1463 - val_accuracy: 0.9565\n",
            "Epoch 5/10\n",
            "938/938 [==============================] - 6s 7ms/step - loss: 0.2337 - accuracy: 0.9311 - val_loss: 0.1445 - val_accuracy: 0.9569\n",
            "Epoch 6/10\n",
            "938/938 [==============================] - 7s 7ms/step - loss: 0.2321 - accuracy: 0.9315 - val_loss: 0.1439 - val_accuracy: 0.9573\n",
            "Epoch 7/10\n",
            "938/938 [==============================] - 7s 7ms/step - loss: 0.2302 - accuracy: 0.9327 - val_loss: 0.1416 - val_accuracy: 0.9580\n",
            "Epoch 8/10\n",
            "938/938 [==============================] - 10s 10ms/step - loss: 0.2261 - accuracy: 0.9335 - val_loss: 0.1400 - val_accuracy: 0.9584\n",
            "Epoch 9/10\n",
            "938/938 [==============================] - 7s 8ms/step - loss: 0.2252 - accuracy: 0.9344 - val_loss: 0.1385 - val_accuracy: 0.9588\n",
            "Epoch 10/10\n",
            "938/938 [==============================] - 7s 7ms/step - loss: 0.2224 - accuracy: 0.9349 - val_loss: 0.1378 - val_accuracy: 0.9586\n",
            "Test loss: 0.1378444880247116\n",
            "Test accuracy: 0.9585999846458435\n",
            "Epoch 1/10\n",
            "469/469 [==============================] - 5s 10ms/step - loss: 0.2220 - accuracy: 0.9357 - val_loss: 0.1367 - val_accuracy: 0.9596\n",
            "Epoch 2/10\n",
            "469/469 [==============================] - 5s 10ms/step - loss: 0.2180 - accuracy: 0.9352 - val_loss: 0.1359 - val_accuracy: 0.9594\n",
            "Epoch 3/10\n",
            "469/469 [==============================] - 5s 11ms/step - loss: 0.2177 - accuracy: 0.9360 - val_loss: 0.1352 - val_accuracy: 0.9597\n",
            "Epoch 4/10\n",
            "469/469 [==============================] - 5s 10ms/step - loss: 0.2155 - accuracy: 0.9367 - val_loss: 0.1340 - val_accuracy: 0.9598\n",
            "Epoch 5/10\n",
            "469/469 [==============================] - 5s 10ms/step - loss: 0.2141 - accuracy: 0.9374 - val_loss: 0.1326 - val_accuracy: 0.9605\n",
            "Epoch 6/10\n",
            "469/469 [==============================] - 5s 11ms/step - loss: 0.2111 - accuracy: 0.9381 - val_loss: 0.1322 - val_accuracy: 0.9609\n",
            "Epoch 7/10\n",
            "469/469 [==============================] - 5s 10ms/step - loss: 0.2088 - accuracy: 0.9388 - val_loss: 0.1313 - val_accuracy: 0.9606\n",
            "Epoch 8/10\n",
            "469/469 [==============================] - 5s 10ms/step - loss: 0.2084 - accuracy: 0.9391 - val_loss: 0.1304 - val_accuracy: 0.9613\n",
            "Epoch 9/10\n",
            "469/469 [==============================] - 5s 10ms/step - loss: 0.2087 - accuracy: 0.9378 - val_loss: 0.1294 - val_accuracy: 0.9611\n",
            "Epoch 10/10\n",
            "469/469 [==============================] - 5s 10ms/step - loss: 0.2076 - accuracy: 0.9388 - val_loss: 0.1287 - val_accuracy: 0.9611\n",
            "Test loss: 0.12871801853179932\n",
            "Test accuracy: 0.9610999822616577\n",
            "Epoch 1/10\n",
            "235/235 [==============================] - 4s 16ms/step - loss: 0.2089 - accuracy: 0.9389 - val_loss: 0.1282 - val_accuracy: 0.9614\n",
            "Epoch 2/10\n",
            "235/235 [==============================] - 4s 19ms/step - loss: 0.2029 - accuracy: 0.9403 - val_loss: 0.1271 - val_accuracy: 0.9620\n",
            "Epoch 3/10\n",
            "235/235 [==============================] - 4s 16ms/step - loss: 0.2032 - accuracy: 0.9401 - val_loss: 0.1268 - val_accuracy: 0.9616\n",
            "Epoch 4/10\n",
            "235/235 [==============================] - 4s 16ms/step - loss: 0.2027 - accuracy: 0.9396 - val_loss: 0.1263 - val_accuracy: 0.9624\n",
            "Epoch 5/10\n",
            "235/235 [==============================] - 4s 16ms/step - loss: 0.2024 - accuracy: 0.9409 - val_loss: 0.1257 - val_accuracy: 0.9624\n",
            "Epoch 6/10\n",
            "235/235 [==============================] - 4s 16ms/step - loss: 0.2018 - accuracy: 0.9407 - val_loss: 0.1251 - val_accuracy: 0.9626\n",
            "Epoch 7/10\n",
            "235/235 [==============================] - 4s 16ms/step - loss: 0.1987 - accuracy: 0.9410 - val_loss: 0.1245 - val_accuracy: 0.9626\n",
            "Epoch 8/10\n",
            "235/235 [==============================] - 4s 17ms/step - loss: 0.2005 - accuracy: 0.9410 - val_loss: 0.1240 - val_accuracy: 0.9623\n",
            "Epoch 9/10\n",
            "235/235 [==============================] - 4s 16ms/step - loss: 0.1972 - accuracy: 0.9420 - val_loss: 0.1231 - val_accuracy: 0.9628\n",
            "Epoch 10/10\n",
            "235/235 [==============================] - 4s 16ms/step - loss: 0.1964 - accuracy: 0.9424 - val_loss: 0.1227 - val_accuracy: 0.9630\n",
            "Test loss: 0.12270753085613251\n",
            "Test accuracy: 0.9629999995231628\n",
            "Epoch 1/10\n",
            "118/118 [==============================] - 4s 30ms/step - loss: 0.1969 - accuracy: 0.9420 - val_loss: 0.1225 - val_accuracy: 0.9630\n",
            "Epoch 2/10\n",
            "118/118 [==============================] - 3s 29ms/step - loss: 0.1962 - accuracy: 0.9422 - val_loss: 0.1220 - val_accuracy: 0.9631\n",
            "Epoch 3/10\n",
            "118/118 [==============================] - 3s 28ms/step - loss: 0.1955 - accuracy: 0.9423 - val_loss: 0.1215 - val_accuracy: 0.9630\n",
            "Epoch 4/10\n",
            "118/118 [==============================] - 3s 29ms/step - loss: 0.1934 - accuracy: 0.9427 - val_loss: 0.1212 - val_accuracy: 0.9632\n",
            "Epoch 5/10\n",
            "118/118 [==============================] - 3s 28ms/step - loss: 0.1961 - accuracy: 0.9422 - val_loss: 0.1210 - val_accuracy: 0.9633\n",
            "Epoch 6/10\n",
            "118/118 [==============================] - 3s 30ms/step - loss: 0.1946 - accuracy: 0.9430 - val_loss: 0.1208 - val_accuracy: 0.9633\n",
            "Epoch 7/10\n",
            "118/118 [==============================] - 3s 28ms/step - loss: 0.1946 - accuracy: 0.9428 - val_loss: 0.1205 - val_accuracy: 0.9630\n",
            "Epoch 8/10\n",
            "118/118 [==============================] - 3s 28ms/step - loss: 0.1921 - accuracy: 0.9434 - val_loss: 0.1199 - val_accuracy: 0.9636\n",
            "Epoch 9/10\n",
            "118/118 [==============================] - 3s 29ms/step - loss: 0.1930 - accuracy: 0.9435 - val_loss: 0.1199 - val_accuracy: 0.9635\n",
            "Epoch 10/10\n",
            "118/118 [==============================] - 3s 29ms/step - loss: 0.1921 - accuracy: 0.9423 - val_loss: 0.1195 - val_accuracy: 0.9633\n",
            "Test loss: 0.1195320412516594\n",
            "Test accuracy: 0.9632999897003174\n",
            "Epoch 1/10\n",
            "59/59 [==============================] - 3s 56ms/step - loss: 0.1920 - accuracy: 0.9435 - val_loss: 0.1193 - val_accuracy: 0.9636\n",
            "Epoch 2/10\n",
            "59/59 [==============================] - 3s 53ms/step - loss: 0.1911 - accuracy: 0.9429 - val_loss: 0.1190 - val_accuracy: 0.9634\n",
            "Epoch 3/10\n",
            "59/59 [==============================] - 3s 53ms/step - loss: 0.1884 - accuracy: 0.9436 - val_loss: 0.1186 - val_accuracy: 0.9633\n",
            "Epoch 4/10\n",
            "59/59 [==============================] - 3s 53ms/step - loss: 0.1892 - accuracy: 0.9452 - val_loss: 0.1186 - val_accuracy: 0.9635\n",
            "Epoch 5/10\n",
            "59/59 [==============================] - 3s 55ms/step - loss: 0.1882 - accuracy: 0.9442 - val_loss: 0.1185 - val_accuracy: 0.9635\n",
            "Epoch 6/10\n",
            "59/59 [==============================] - 3s 53ms/step - loss: 0.1912 - accuracy: 0.9444 - val_loss: 0.1182 - val_accuracy: 0.9638\n",
            "Epoch 7/10\n",
            "59/59 [==============================] - 3s 55ms/step - loss: 0.1900 - accuracy: 0.9443 - val_loss: 0.1181 - val_accuracy: 0.9637\n",
            "Epoch 8/10\n",
            "59/59 [==============================] - 3s 55ms/step - loss: 0.1881 - accuracy: 0.9444 - val_loss: 0.1178 - val_accuracy: 0.9637\n",
            "Epoch 9/10\n",
            "59/59 [==============================] - 3s 55ms/step - loss: 0.1866 - accuracy: 0.9449 - val_loss: 0.1175 - val_accuracy: 0.9637\n",
            "Epoch 10/10\n",
            "59/59 [==============================] - 3s 55ms/step - loss: 0.1876 - accuracy: 0.9459 - val_loss: 0.1175 - val_accuracy: 0.9636\n",
            "Test loss: 0.11749637126922607\n",
            "Test accuracy: 0.9635999798774719\n"
          ]
        }
      ]
    },
    {
      "cell_type": "code",
      "source": [
        "batch_size = [32,64,128,256,512,1024]\n",
        "epochs = 10\n",
        "history = [1,2,3,4,5,6]\n",
        "\n",
        "for i in range(6):\n",
        "    history[i] = model.fit(x_train, y_train, batch_size=batch_size[i],epochs=epochs,verbose=1,validation_data=(x_test, y_test))\n",
        "    score = model.evaluate(x_test, y_test, verbose=0)\n",
        "    print('Test loss:', score[0])\n",
        "    print('Test accuracy:', score[1])"
      ],
      "metadata": {
        "id": "Wkw-XETbVZXq",
        "outputId": "a758d40f-9bc4-4a72-b217-70b1f8333fa8",
        "colab": {
          "base_uri": "https://localhost:8080/"
        }
      },
      "execution_count": 17,
      "outputs": [
        {
          "output_type": "stream",
          "name": "stdout",
          "text": [
            "Epoch 1/10\n",
            "1875/1875 [==============================] - 11s 6ms/step - loss: 0.1884 - accuracy: 0.9435 - val_loss: 0.1163 - val_accuracy: 0.9643\n",
            "Epoch 2/10\n",
            "1875/1875 [==============================] - 10s 5ms/step - loss: 0.1879 - accuracy: 0.9455 - val_loss: 0.1157 - val_accuracy: 0.9640\n",
            "Epoch 3/10\n",
            "1875/1875 [==============================] - 9s 5ms/step - loss: 0.1854 - accuracy: 0.9457 - val_loss: 0.1151 - val_accuracy: 0.9645\n",
            "Epoch 4/10\n",
            "1875/1875 [==============================] - 10s 5ms/step - loss: 0.1799 - accuracy: 0.9466 - val_loss: 0.1144 - val_accuracy: 0.9651\n",
            "Epoch 5/10\n",
            "1875/1875 [==============================] - 10s 5ms/step - loss: 0.1858 - accuracy: 0.9460 - val_loss: 0.1128 - val_accuracy: 0.9650\n",
            "Epoch 6/10\n",
            "1875/1875 [==============================] - 11s 6ms/step - loss: 0.1810 - accuracy: 0.9471 - val_loss: 0.1121 - val_accuracy: 0.9651\n",
            "Epoch 7/10\n",
            "1875/1875 [==============================] - 10s 5ms/step - loss: 0.1777 - accuracy: 0.9469 - val_loss: 0.1115 - val_accuracy: 0.9651\n",
            "Epoch 8/10\n",
            "1875/1875 [==============================] - 9s 5ms/step - loss: 0.1772 - accuracy: 0.9477 - val_loss: 0.1105 - val_accuracy: 0.9657\n",
            "Epoch 9/10\n",
            "1875/1875 [==============================] - 10s 5ms/step - loss: 0.1757 - accuracy: 0.9481 - val_loss: 0.1100 - val_accuracy: 0.9656\n",
            "Epoch 10/10\n",
            "1875/1875 [==============================] - 10s 5ms/step - loss: 0.1763 - accuracy: 0.9486 - val_loss: 0.1087 - val_accuracy: 0.9662\n",
            "Test loss: 0.10866335779428482\n",
            "Test accuracy: 0.9661999940872192\n",
            "Epoch 1/10\n",
            "938/938 [==============================] - 7s 7ms/step - loss: 0.1735 - accuracy: 0.9494 - val_loss: 0.1078 - val_accuracy: 0.9665\n",
            "Epoch 2/10\n",
            "938/938 [==============================] - 7s 7ms/step - loss: 0.1732 - accuracy: 0.9495 - val_loss: 0.1073 - val_accuracy: 0.9664\n",
            "Epoch 3/10\n",
            "938/938 [==============================] - 6s 7ms/step - loss: 0.1698 - accuracy: 0.9511 - val_loss: 0.1064 - val_accuracy: 0.9665\n",
            "Epoch 4/10\n",
            "938/938 [==============================] - 6s 7ms/step - loss: 0.1702 - accuracy: 0.9501 - val_loss: 0.1059 - val_accuracy: 0.9670\n",
            "Epoch 5/10\n",
            "938/938 [==============================] - 6s 7ms/step - loss: 0.1677 - accuracy: 0.9506 - val_loss: 0.1052 - val_accuracy: 0.9667\n",
            "Epoch 6/10\n",
            "938/938 [==============================] - 7s 7ms/step - loss: 0.1674 - accuracy: 0.9515 - val_loss: 0.1045 - val_accuracy: 0.9669\n",
            "Epoch 7/10\n",
            "938/938 [==============================] - 7s 7ms/step - loss: 0.1642 - accuracy: 0.9520 - val_loss: 0.1036 - val_accuracy: 0.9670\n",
            "Epoch 8/10\n",
            "938/938 [==============================] - 7s 7ms/step - loss: 0.1648 - accuracy: 0.9510 - val_loss: 0.1029 - val_accuracy: 0.9671\n",
            "Epoch 9/10\n",
            "938/938 [==============================] - 7s 7ms/step - loss: 0.1649 - accuracy: 0.9522 - val_loss: 0.1024 - val_accuracy: 0.9672\n",
            "Epoch 10/10\n",
            "938/938 [==============================] - 7s 7ms/step - loss: 0.1609 - accuracy: 0.9533 - val_loss: 0.1019 - val_accuracy: 0.9672\n",
            "Test loss: 0.10193531960248947\n",
            "Test accuracy: 0.967199981212616\n",
            "Epoch 1/10\n",
            "469/469 [==============================] - 5s 10ms/step - loss: 0.1622 - accuracy: 0.9524 - val_loss: 0.1015 - val_accuracy: 0.9672\n",
            "Epoch 2/10\n",
            "469/469 [==============================] - 5s 10ms/step - loss: 0.1622 - accuracy: 0.9518 - val_loss: 0.1008 - val_accuracy: 0.9678\n",
            "Epoch 3/10\n",
            "469/469 [==============================] - 5s 10ms/step - loss: 0.1604 - accuracy: 0.9527 - val_loss: 0.1002 - val_accuracy: 0.9682\n",
            "Epoch 4/10\n",
            "469/469 [==============================] - 5s 10ms/step - loss: 0.1589 - accuracy: 0.9528 - val_loss: 0.1002 - val_accuracy: 0.9676\n",
            "Epoch 5/10\n",
            "469/469 [==============================] - 5s 10ms/step - loss: 0.1568 - accuracy: 0.9544 - val_loss: 0.0992 - val_accuracy: 0.9681\n",
            "Epoch 6/10\n",
            "469/469 [==============================] - 5s 10ms/step - loss: 0.1590 - accuracy: 0.9539 - val_loss: 0.0989 - val_accuracy: 0.9680\n",
            "Epoch 7/10\n",
            "469/469 [==============================] - 5s 11ms/step - loss: 0.1576 - accuracy: 0.9548 - val_loss: 0.0984 - val_accuracy: 0.9681\n",
            "Epoch 8/10\n",
            "469/469 [==============================] - 5s 10ms/step - loss: 0.1560 - accuracy: 0.9549 - val_loss: 0.0982 - val_accuracy: 0.9683\n",
            "Epoch 9/10\n",
            "469/469 [==============================] - 5s 11ms/step - loss: 0.1568 - accuracy: 0.9538 - val_loss: 0.0978 - val_accuracy: 0.9683\n",
            "Epoch 10/10\n",
            "469/469 [==============================] - 5s 10ms/step - loss: 0.1564 - accuracy: 0.9546 - val_loss: 0.0971 - val_accuracy: 0.9687\n",
            "Test loss: 0.09711682796478271\n",
            "Test accuracy: 0.9686999917030334\n",
            "Epoch 1/10\n",
            "235/235 [==============================] - 4s 18ms/step - loss: 0.1545 - accuracy: 0.9545 - val_loss: 0.0971 - val_accuracy: 0.9692\n",
            "Epoch 2/10\n",
            "235/235 [==============================] - 4s 16ms/step - loss: 0.1518 - accuracy: 0.9554 - val_loss: 0.0969 - val_accuracy: 0.9690\n",
            "Epoch 3/10\n",
            "235/235 [==============================] - 4s 17ms/step - loss: 0.1519 - accuracy: 0.9553 - val_loss: 0.0964 - val_accuracy: 0.9689\n",
            "Epoch 4/10\n",
            "235/235 [==============================] - 4s 16ms/step - loss: 0.1516 - accuracy: 0.9551 - val_loss: 0.0963 - val_accuracy: 0.9692\n",
            "Epoch 5/10\n",
            "235/235 [==============================] - 4s 16ms/step - loss: 0.1532 - accuracy: 0.9548 - val_loss: 0.0957 - val_accuracy: 0.9699\n",
            "Epoch 6/10\n",
            "235/235 [==============================] - 4s 16ms/step - loss: 0.1530 - accuracy: 0.9554 - val_loss: 0.0959 - val_accuracy: 0.9692\n",
            "Epoch 7/10\n",
            "235/235 [==============================] - 4s 17ms/step - loss: 0.1519 - accuracy: 0.9554 - val_loss: 0.0953 - val_accuracy: 0.9700\n",
            "Epoch 8/10\n",
            "235/235 [==============================] - 4s 16ms/step - loss: 0.1535 - accuracy: 0.9556 - val_loss: 0.0951 - val_accuracy: 0.9693\n",
            "Epoch 9/10\n",
            "235/235 [==============================] - 4s 16ms/step - loss: 0.1524 - accuracy: 0.9555 - val_loss: 0.0949 - val_accuracy: 0.9697\n",
            "Epoch 10/10\n",
            "235/235 [==============================] - 4s 16ms/step - loss: 0.1509 - accuracy: 0.9557 - val_loss: 0.0945 - val_accuracy: 0.9696\n",
            "Test loss: 0.09452348947525024\n",
            "Test accuracy: 0.9696000218391418\n",
            "Epoch 1/10\n",
            "118/118 [==============================] - 3s 29ms/step - loss: 0.1489 - accuracy: 0.9566 - val_loss: 0.0942 - val_accuracy: 0.9701\n",
            "Epoch 2/10\n",
            "118/118 [==============================] - 3s 28ms/step - loss: 0.1488 - accuracy: 0.9561 - val_loss: 0.0941 - val_accuracy: 0.9698\n",
            "Epoch 3/10\n",
            "118/118 [==============================] - 3s 28ms/step - loss: 0.1492 - accuracy: 0.9559 - val_loss: 0.0940 - val_accuracy: 0.9699\n",
            "Epoch 4/10\n",
            "118/118 [==============================] - 3s 29ms/step - loss: 0.1486 - accuracy: 0.9564 - val_loss: 0.0942 - val_accuracy: 0.9701\n",
            "Epoch 5/10\n",
            "118/118 [==============================] - 3s 28ms/step - loss: 0.1477 - accuracy: 0.9567 - val_loss: 0.0934 - val_accuracy: 0.9698\n",
            "Epoch 6/10\n",
            "118/118 [==============================] - 3s 30ms/step - loss: 0.1514 - accuracy: 0.9553 - val_loss: 0.0931 - val_accuracy: 0.9703\n",
            "Epoch 7/10\n",
            "118/118 [==============================] - 3s 28ms/step - loss: 0.1505 - accuracy: 0.9557 - val_loss: 0.0927 - val_accuracy: 0.9703\n",
            "Epoch 8/10\n",
            "118/118 [==============================] - 3s 29ms/step - loss: 0.1458 - accuracy: 0.9564 - val_loss: 0.0927 - val_accuracy: 0.9702\n",
            "Epoch 9/10\n",
            "118/118 [==============================] - 4s 34ms/step - loss: 0.1486 - accuracy: 0.9563 - val_loss: 0.0928 - val_accuracy: 0.9702\n",
            "Epoch 10/10\n",
            "118/118 [==============================] - 4s 33ms/step - loss: 0.1476 - accuracy: 0.9563 - val_loss: 0.0924 - val_accuracy: 0.9703\n",
            "Test loss: 0.09244110435247421\n",
            "Test accuracy: 0.970300018787384\n",
            "Epoch 1/10\n",
            "59/59 [==============================] - 3s 55ms/step - loss: 0.1459 - accuracy: 0.9573 - val_loss: 0.0924 - val_accuracy: 0.9706\n",
            "Epoch 2/10\n",
            "59/59 [==============================] - 3s 52ms/step - loss: 0.1466 - accuracy: 0.9573 - val_loss: 0.0923 - val_accuracy: 0.9707\n",
            "Epoch 3/10\n",
            "59/59 [==============================] - 3s 55ms/step - loss: 0.1481 - accuracy: 0.9563 - val_loss: 0.0923 - val_accuracy: 0.9703\n",
            "Epoch 4/10\n",
            "59/59 [==============================] - 3s 53ms/step - loss: 0.1440 - accuracy: 0.9579 - val_loss: 0.0920 - val_accuracy: 0.9705\n",
            "Epoch 5/10\n",
            "59/59 [==============================] - 3s 55ms/step - loss: 0.1462 - accuracy: 0.9574 - val_loss: 0.0920 - val_accuracy: 0.9708\n",
            "Epoch 6/10\n",
            "59/59 [==============================] - 3s 53ms/step - loss: 0.1448 - accuracy: 0.9577 - val_loss: 0.0918 - val_accuracy: 0.9710\n",
            "Epoch 7/10\n",
            "59/59 [==============================] - 3s 54ms/step - loss: 0.1438 - accuracy: 0.9585 - val_loss: 0.0917 - val_accuracy: 0.9706\n",
            "Epoch 8/10\n",
            "59/59 [==============================] - 3s 54ms/step - loss: 0.1448 - accuracy: 0.9570 - val_loss: 0.0915 - val_accuracy: 0.9712\n",
            "Epoch 9/10\n",
            "59/59 [==============================] - 3s 56ms/step - loss: 0.1447 - accuracy: 0.9575 - val_loss: 0.0913 - val_accuracy: 0.9713\n",
            "Epoch 10/10\n",
            "59/59 [==============================] - 3s 54ms/step - loss: 0.1455 - accuracy: 0.9571 - val_loss: 0.0913 - val_accuracy: 0.9713\n",
            "Test loss: 0.0912846103310585\n",
            "Test accuracy: 0.9713000059127808\n"
          ]
        }
      ]
    },
    {
      "cell_type": "code",
      "source": [
        "history_dict = history[0].history\n",
        "loss_values = history_dict['loss']\n",
        "val_loss_values = history_dict['val_loss']\n",
        "epochs = range(1, len(loss_values) + 1)\n",
        "\n",
        "line1 = plt.plot(epochs, val_loss_values, label='Validation/Test loss')\n",
        "line2 = plt.plot(epochs, loss_values, label='Training loss')\n",
        "plt.setp(line1, linewidth=2.0, marker='+', markersize=10.0)\n",
        "plt.setp(line2, linewidth=2.0, marker='4', markersize=10.0)\n",
        "plt.xlabel('Epochs')\n",
        "plt.ylabel('Loss')\n",
        "plt.grid(True)\n",
        "plt.legend()\n",
        "plt.show()"
      ],
      "metadata": {
        "id": "7yPhDeSsX3hA",
        "outputId": "98bfea99-a7bb-4caa-f04c-67a92c704481",
        "colab": {
          "base_uri": "https://localhost:8080/",
          "height": 279
        }
      },
      "execution_count": 20,
      "outputs": [
        {
          "output_type": "display_data",
          "data": {
            "text/plain": [
              "<Figure size 432x288 with 1 Axes>"
            ],
            "image/png": "[encoded data removed]"
          },
          "metadata": {
            "needs_background": "light"
          }
        }
      ]
    }
  ]
}