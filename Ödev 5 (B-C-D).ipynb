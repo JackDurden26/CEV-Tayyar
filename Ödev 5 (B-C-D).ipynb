{
 "cells": [
  {
   "cell_type": "code",
   "execution_count": 24,
   "outputs": [
    {
     "data": {
      "text/plain": "<Figure size 432x288 with 1 Axes>",
      "image/png": "[encoded data removed]"
     },
     "metadata": {
      "needs_background": "light"
     },
     "output_type": "display_data"
    },
    {
     "name": "stdout",
     "output_type": "stream",
     "text": [
      "The best model is:  0.9649122807017544\n",
      "The best var_smoothing value is:  1e-10\n",
      "The best accuracy score is:  0.9649122807017544\n"
     ]
    }
   ],
   "source": [
    "import numpy as np\n",
    "import pandas as pd\n",
    "from sklearn.datasets import load_breast_cancer\n",
    "from sklearn.model_selection import train_test_split\n",
    "from sklearn.naive_bayes import GaussianNB\n",
    "from sklearn.metrics import accuracy_score\n",
    "import matplotlib.pyplot as plt\n",
    "\n",
    "# load the dataset\n",
    "data = load_breast_cancer()\n",
    "X = data.data\n",
    "y = data.target\n",
    "\n",
    "# split the dataset into train and test\n",
    "X_train, X_test, y_train, y_test = train_test_split(X, y, test_size=0.2, random_state=42)\n",
    "\n",
    "# create a list of var_smoothing values\n",
    "var_smoothing = np.linspace(0.0000000001, 1, 20)\n",
    "\n",
    "# create a list to store the accuracy scores\n",
    "accuracy = []\n",
    "\n",
    "# create a for loop to run the GaussianNB algorithm for 20 different values with respect to var_smoothing parameter\n",
    "for i in var_smoothing:\n",
    "    model = GaussianNB(var_smoothing=i)\n",
    "    model.fit(X_train, y_train)\n",
    "    y_pred = model.predict(X_test)\n",
    "    accuracy.append(accuracy_score(y_test, y_pred))\n",
    "\n",
    "# visualize your findings via a lineplot (matplotlib) to illustrate the more appropriate values/ranges.\n",
    "plt.plot(var_smoothing, accuracy)\n",
    "plt.xlabel('var_smoothing')\n",
    "plt.ylabel('accuracy')\n",
    "plt.show()\n",
    "\n",
    "# print the best model\n",
    "print('The best model is: ', max(accuracy))\n",
    "\n",
    "# print the best var_smoothing value\n",
    "print('The best var_smoothing value is: ', var_smoothing[accuracy.index(max(accuracy))])\n",
    "\n",
    "# print the best accuracy score\n",
    "print('The best accuracy score is: ', max(accuracy))"
   ],
   "metadata": {
    "collapsed": false
   }
  },
  {
   "cell_type": "code",
   "execution_count": null,
   "outputs": [],
   "source": [],
   "metadata": {
    "collapsed": false
   }
  }
 ],
 "metadata": {
  "kernelspec": {
   "display_name": "Python 3",
   "language": "python",
   "name": "python3"
  },
  "language_info": {
   "codemirror_mode": {
    "name": "ipython",
    "version": 2
   },
   "file_extension": ".py",
   "mimetype": "text/x-python",
   "name": "python",
   "nbconvert_exporter": "python",
   "pygments_lexer": "ipython2",
   "version": "2.7.6"
  }
 },
 "nbformat": 4,
 "nbformat_minor": 0
}
